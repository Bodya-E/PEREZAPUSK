{
 "cells": [
  {
   "cell_type": "markdown",
   "metadata": {
    "id": "pDrecLU-4QjS"
   },
   "source": [
    "# Практика"
   ]
  },
  {
   "cell_type": "code",
   "execution_count": 1,
   "metadata": {
    "id": "a6XFMuQUG6jO"
   },
   "outputs": [],
   "source": [
    "import pandas as pd\n",
    "import numpy as np\n",
    "import matplotlib.pyplot as plt\n",
    "import scipy.stats as sts\n",
    "import math\n",
    "%matplotlib inline"
   ]
  },
  {
   "cell_type": "markdown",
   "metadata": {
    "id": "5owLnS0MHJnz"
   },
   "source": [
    "## ЦПТ для различных распределений\n",
    "Возьмите то непрерывное распределение, которое вам больше всего понравится из списка доступных в модуле [scipy.stats](https://docs.scipy.org/doc/scipy/reference/stats.html)."
   ]
  },
  {
   "cell_type": "markdown",
   "metadata": {
    "id": "v1IvIGF9IRgH"
   },
   "source": [
    "### Сгенерируйте примеры из распределения"
   ]
  },
  {
   "cell_type": "code",
   "execution_count": null,
   "metadata": {
    "colab": {
     "base_uri": "https://localhost:8080/"
    },
    "id": "l4oTC1NSHvl7",
    "outputId": "86b6f5af-9117-40a1-f916-bb523c4b54e2"
   },
   "outputs": [
    {
     "data": {
      "text/plain": [
       "array([-1.85256637e+01, -5.02915763e-01,  1.70528558e+00, -3.13879597e-01,\n",
       "       -3.51213361e-02, -6.43997191e-02, -6.80356450e-01, -3.77627170e-01,\n",
       "       -5.08235261e-01, -7.08815409e-01, -1.92284837e-01,  9.06837447e-01,\n",
       "       -8.02695423e-01, -1.48985056e+00,  3.86434721e-01, -6.20591023e-01,\n",
       "       -1.27402152e+00,  4.31789056e-01, -3.41223488e-01,  3.19742787e-02,\n",
       "       -2.62106672e+00, -5.47824326e-01,  1.80801062e-01,  3.98643103e-01,\n",
       "       -1.45025375e+00,  4.73304675e-01,  3.09955319e+00,  1.84317691e+00,\n",
       "       -1.42232942e-01,  6.07484998e-01, -8.59864934e-01,  1.27238998e+00,\n",
       "       -1.09222409e+00, -1.47496754e-01, -2.35739804e-01,  2.63030847e+00,\n",
       "        2.68930371e-01,  2.25324825e+00,  2.65874710e+00,  3.34005956e-01,\n",
       "       -2.10500144e+00, -2.46806711e-01, -1.29461100e+00,  1.20507537e-01,\n",
       "        5.88297752e-01, -1.36752759e+00,  4.94906706e-03,  2.57223743e+00,\n",
       "       -1.50174520e+00, -5.32048633e+00, -9.37038383e-01, -1.95695172e-01,\n",
       "       -8.42785149e-01, -1.32055580e+00, -4.34583715e-02, -5.65111654e-01,\n",
       "       -3.66737927e-01,  1.13687111e+00,  5.93917733e-02,  3.96585323e-02,\n",
       "       -4.00325498e-01, -1.84135223e+00,  2.13237863e+00,  8.88929737e-02,\n",
       "        3.54070635e-01, -5.18227527e-01, -4.84162470e-02, -2.67624660e+00,\n",
       "       -6.55063344e-01,  7.04801468e-01,  2.63755445e-01, -3.21490736e+00,\n",
       "        5.92273611e-01, -4.43400808e+00, -4.31422083e-01,  3.47462346e-01,\n",
       "       -6.69342723e-01, -1.05941093e+00, -6.12403614e-01, -1.69187445e+00,\n",
       "       -1.82112411e-02, -5.41457393e-01, -2.00856187e-01, -6.62558283e-01,\n",
       "       -1.30892597e+00, -3.34884270e-01,  9.36716065e-01, -1.54955881e-01,\n",
       "       -7.04530657e-01, -5.23534076e-02, -3.60302190e+00, -5.72425352e-01,\n",
       "       -8.37995100e-01,  3.02170034e+00,  1.05530652e+00,  2.97368576e-01,\n",
       "        1.73523133e+00,  1.12653896e-01,  2.99229475e-01, -2.26214481e+00])"
      ]
     },
     "execution_count": 14,
     "metadata": {
      "tags": []
     },
     "output_type": "execute_result"
    }
   ],
   "source": [
    "# ваш код тут\n",
    "# например вот такое распределение https://docs.scipy.org/doc/scipy/reference/generated/scipy.stats.cosine.html#scipy.stats.cosine\n",
    "st_svob = 3\n",
    "t_rv = sts.t(st_svob)  #Распределение Стьюдента\n",
    "sample = t_rv.rvs(100)\n",
    "sample"
   ]
  },
  {
   "cell_type": "code",
   "execution_count": null,
   "metadata": {
    "colab": {
     "base_uri": "https://localhost:8080/"
    },
    "id": "ScsjsI4oXgKR",
    "outputId": "18f4396f-9db4-4bd7-ebf3-1917ca2f3298"
   },
   "outputs": [
    {
     "data": {
      "text/plain": [
       "dtype('float64')"
      ]
     },
     "execution_count": 9,
     "metadata": {
      "tags": []
     },
     "output_type": "execute_result"
    }
   ],
   "source": [
    "sample.dtype"
   ]
  },
  {
   "cell_type": "code",
   "execution_count": null,
   "metadata": {
    "id": "pXTNSqAOCYX4"
   },
   "outputs": [],
   "source": [
    "real_mean = t_rv.mean() # настоящее среднее случайной величины"
   ]
  },
  {
   "cell_type": "code",
   "execution_count": null,
   "metadata": {
    "colab": {
     "base_uri": "https://localhost:8080/"
    },
    "id": "5x4hFKaUCWSY",
    "outputId": "3272758b-8c81-4854-bb1b-e34b26ea1b98"
   },
   "outputs": [
    {
     "data": {
      "text/plain": [
       "3.0"
      ]
     },
     "execution_count": 16,
     "metadata": {
      "tags": []
     },
     "output_type": "execute_result"
    }
   ],
   "source": [
    "real_var = t_rv.var() # настоящая дисперсия случайной величины"
   ]
  },
  {
   "cell_type": "markdown",
   "metadata": {
    "id": "4bNn15giIX77"
   },
   "source": [
    "### Постройте гистограмму выборки и теоретическую плотность распределения"
   ]
  },
  {
   "cell_type": "code",
   "execution_count": null,
   "metadata": {
    "colab": {
     "base_uri": "https://localhost:8080/",
     "height": 283
    },
    "id": "CwbvqecvIcXN",
    "outputId": "ee2030ba-f121-4c12-9922-a2bf1a00e9e7"
   },
   "outputs": [
    {
     "data": {
      "text/plain": [
       "<matplotlib.legend.Legend at 0x7f94466f5610>"
      ]
     },
     "execution_count": 18,
     "metadata": {
      "tags": []
     },
     "output_type": "execute_result"
    },
    {
     "data": {
      "image/png": "[encoded data removed]",
      "text/plain": [
       "<Figure size 432x288 with 1 Axes>"
      ]
     },
     "metadata": {
      "needs_background": "light",
      "tags": []
     },
     "output_type": "display_data"
    }
   ],
   "source": [
    "# ваш код тут\n",
    "plt.hist(sample, density=True)\n",
    "x = np.linspace(-4,4,100)\n",
    "pdf = t_rv.pdf(x)\n",
    "plt.plot(x, pdf, label='теоретическая плотность', alpha=0.5)\n",
    "plt.legend()"
   ]
  },
  {
   "cell_type": "code",
   "execution_count": null,
   "metadata": {
    "colab": {
     "base_uri": "https://localhost:8080/"
    },
    "id": "rKd5XFelBqe7",
    "outputId": "506e9a18-7938-42b2-aebc-92bc0c176910"
   },
   "outputs": [
    {
     "name": "stdout",
     "output_type": "stream",
     "text": [
      "-0.43202596777058255\n",
      "5.207081527416896\n"
     ]
    }
   ],
   "source": [
    "sample_mean = sample.mean() # выборочное среднее\n",
    "print(sample_mean)\n",
    "sample_var = sample.var() # выборочная дисперсия\n",
    "print(sample_var)\n"
   ]
  },
  {
   "cell_type": "markdown",
   "metadata": {
    "id": "qPuHR68NId_Z"
   },
   "source": [
    "### Оценим распределение выборочного среднего для разных объёмов выборок\n",
    "Для этого постройте на одном полотне гистограмму выборочных средних и теоретическое распределение выборочных средних по ЦПТ для разных объёмов выборок.\n",
    "\n",
    "Для теоретического распределение используйте настоящие значения мат ожидания и дисперсии (не приближенные на основе выборки)."
   ]
  },
  {
   "cell_type": "code",
   "execution_count": null,
   "metadata": {
    "colab": {
     "base_uri": "https://localhost:8080/",
     "height": 610
    },
    "id": "_mB8upK7J58w",
    "outputId": "8b68afd4-1cea-41fe-df9c-e0d2048db4b9"
   },
   "outputs": [
    {
     "data": {
      "text/plain": [
       "[]"
      ]
     },
     "execution_count": 55,
     "metadata": {
      "tags": []
     },
     "output_type": "execute_result"
    },
    {
     "data": {
      "image/png": "[encoded data removed]",
      "text/plain": [
       "<Figure size 1440x720 with 1 Axes>"
      ]
     },
     "metadata": {
      "needs_background": "light",
      "tags": []
     },
     "output_type": "display_data"
    }
   ],
   "source": [
    "plt.figure(figsize=(20,10))\n",
    "x = np.linspace(-1,1, 100)\n",
    "for N in [100, 10000]:\n",
    "  r_mean = [t_rv.rvs(N).mean() for x in range(100)]\n",
    "  plt.hist(r_mean,label=f'выборочное среднее при N = {N}', alpha=0.5)\n",
    "  \n",
    "  norm_rv = sts.norm(loc=t_rv.mean(), scale=t_rv.std() / np.sqrt(N))\n",
    "  pdf = norm_rv.pdf(x)\n",
    "  plt.plot(x, pdf, label=f'Теоретическая плотность при N = {N}', alpha=1)\n",
    "plt.legend()\n",
    "plt.plot()\n"
   ]
  },
  {
   "cell_type": "markdown",
   "metadata": {
    "id": "TF1onBy_J7sX"
   },
   "source": [
    "Как вы считаете, для выбранного распределения апроксимация распределения выборочного среднего работает хорошо или плохо?\n",
    "**Ваш ответ:**"
   ]
  },
  {
   "cell_type": "code",
   "execution_count": null,
   "metadata": {
    "id": "1BEsK495KIuM"
   },
   "outputs": [],
   "source": [
    "ДА, но только при увеличении размера выборки. Тогда выборочные средние лучше приближаются к графикам нормального распределения"
   ]
  },
  {
   "cell_type": "markdown",
   "metadata": {
    "id": "xEyWxfjSfxGp"
   },
   "source": [
    "## Доверительный интервал на основе ЦПТ\n",
    "Возьмите данные для оттока телеком компании, и постройте доверительные интервалы для среднего значения total day calls, используя центральную предельную теорему в разбиении по колонке churn (ушел/не ушел). \n",
    "\n",
    "Для оценки дисперсии используйте несмещенную оценку (параметр ddof=1).\n",
    "\n",
    "Сделайте оценку с использованием явной формулы для z интервала, а затем с помощью функций \n",
    "`from statsmodels.stats.weightstats import _zconfint_generic`. Сравните результаты.\n",
    "\n",
    "\n",
    "Ссылка на данные: https://drive.google.com/file/d/1X_drKqoarnU2Sz2har7uSCsgyhh8Xtz8/view?usp=sharing"
   ]
  },
  {
   "cell_type": "markdown",
   "metadata": {
    "id": "4ew7PUt3dMz4"
   },
   "source": []
  },
  {
   "cell_type": "code",
   "execution_count": 29,
   "metadata": {},
   "outputs": [
    {
     "data": {
      "text/html": [
       "<div>\n",
       "<style scoped>\n",
       "    .dataframe tbody tr th:only-of-type {\n",
       "        vertical-align: middle;\n",
       "    }\n",
       "\n",
       "    .dataframe tbody tr th {\n",
       "        vertical-align: top;\n",
       "    }\n",
       "\n",
       "    .dataframe thead th {\n",
       "        text-align: right;\n",
       "    }\n",
       "</style>\n",
       "<table border=\"1\" class=\"dataframe\">\n",
       "  <thead>\n",
       "    <tr style=\"text-align: right;\">\n",
       "      <th></th>\n",
       "      <th>state</th>\n",
       "      <th>account length</th>\n",
       "      <th>area code</th>\n",
       "      <th>phone number</th>\n",
       "      <th>international plan</th>\n",
       "      <th>voice mail plan</th>\n",
       "      <th>number vmail messages</th>\n",
       "      <th>total day minutes</th>\n",
       "      <th>total day calls</th>\n",
       "      <th>total day charge</th>\n",
       "      <th>...</th>\n",
       "      <th>total eve calls</th>\n",
       "      <th>total eve charge</th>\n",
       "      <th>total night minutes</th>\n",
       "      <th>total night calls</th>\n",
       "      <th>total night charge</th>\n",
       "      <th>total intl minutes</th>\n",
       "      <th>total intl calls</th>\n",
       "      <th>total intl charge</th>\n",
       "      <th>customer service calls</th>\n",
       "      <th>churn</th>\n",
       "    </tr>\n",
       "  </thead>\n",
       "  <tbody>\n",
       "    <tr>\n",
       "      <th>0</th>\n",
       "      <td>KS</td>\n",
       "      <td>128</td>\n",
       "      <td>415</td>\n",
       "      <td>382-4657</td>\n",
       "      <td>no</td>\n",
       "      <td>yes</td>\n",
       "      <td>25</td>\n",
       "      <td>265.1</td>\n",
       "      <td>110</td>\n",
       "      <td>45.07</td>\n",
       "      <td>...</td>\n",
       "      <td>99</td>\n",
       "      <td>16.78</td>\n",
       "      <td>244.7</td>\n",
       "      <td>91</td>\n",
       "      <td>11.01</td>\n",
       "      <td>10.0</td>\n",
       "      <td>3</td>\n",
       "      <td>2.70</td>\n",
       "      <td>1</td>\n",
       "      <td>False</td>\n",
       "    </tr>\n",
       "    <tr>\n",
       "      <th>1</th>\n",
       "      <td>OH</td>\n",
       "      <td>107</td>\n",
       "      <td>415</td>\n",
       "      <td>371-7191</td>\n",
       "      <td>no</td>\n",
       "      <td>yes</td>\n",
       "      <td>26</td>\n",
       "      <td>161.6</td>\n",
       "      <td>123</td>\n",
       "      <td>27.47</td>\n",
       "      <td>...</td>\n",
       "      <td>103</td>\n",
       "      <td>16.62</td>\n",
       "      <td>254.4</td>\n",
       "      <td>103</td>\n",
       "      <td>11.45</td>\n",
       "      <td>13.7</td>\n",
       "      <td>3</td>\n",
       "      <td>3.70</td>\n",
       "      <td>1</td>\n",
       "      <td>False</td>\n",
       "    </tr>\n",
       "    <tr>\n",
       "      <th>2</th>\n",
       "      <td>NJ</td>\n",
       "      <td>137</td>\n",
       "      <td>415</td>\n",
       "      <td>358-1921</td>\n",
       "      <td>no</td>\n",
       "      <td>no</td>\n",
       "      <td>0</td>\n",
       "      <td>243.4</td>\n",
       "      <td>114</td>\n",
       "      <td>41.38</td>\n",
       "      <td>...</td>\n",
       "      <td>110</td>\n",
       "      <td>10.30</td>\n",
       "      <td>162.6</td>\n",
       "      <td>104</td>\n",
       "      <td>7.32</td>\n",
       "      <td>12.2</td>\n",
       "      <td>5</td>\n",
       "      <td>3.29</td>\n",
       "      <td>0</td>\n",
       "      <td>False</td>\n",
       "    </tr>\n",
       "    <tr>\n",
       "      <th>3</th>\n",
       "      <td>OH</td>\n",
       "      <td>84</td>\n",
       "      <td>408</td>\n",
       "      <td>375-9999</td>\n",
       "      <td>yes</td>\n",
       "      <td>no</td>\n",
       "      <td>0</td>\n",
       "      <td>299.4</td>\n",
       "      <td>71</td>\n",
       "      <td>50.90</td>\n",
       "      <td>...</td>\n",
       "      <td>88</td>\n",
       "      <td>5.26</td>\n",
       "      <td>196.9</td>\n",
       "      <td>89</td>\n",
       "      <td>8.86</td>\n",
       "      <td>6.6</td>\n",
       "      <td>7</td>\n",
       "      <td>1.78</td>\n",
       "      <td>2</td>\n",
       "      <td>False</td>\n",
       "    </tr>\n",
       "    <tr>\n",
       "      <th>4</th>\n",
       "      <td>OK</td>\n",
       "      <td>75</td>\n",
       "      <td>415</td>\n",
       "      <td>330-6626</td>\n",
       "      <td>yes</td>\n",
       "      <td>no</td>\n",
       "      <td>0</td>\n",
       "      <td>166.7</td>\n",
       "      <td>113</td>\n",
       "      <td>28.34</td>\n",
       "      <td>...</td>\n",
       "      <td>122</td>\n",
       "      <td>12.61</td>\n",
       "      <td>186.9</td>\n",
       "      <td>121</td>\n",
       "      <td>8.41</td>\n",
       "      <td>10.1</td>\n",
       "      <td>3</td>\n",
       "      <td>2.73</td>\n",
       "      <td>3</td>\n",
       "      <td>False</td>\n",
       "    </tr>\n",
       "  </tbody>\n",
       "</table>\n",
       "<p>5 rows × 21 columns</p>\n",
       "</div>"
      ],
      "text/plain": [
       "  state  account length  area code phone number international plan  \\\n",
       "0    KS             128        415     382-4657                 no   \n",
       "1    OH             107        415     371-7191                 no   \n",
       "2    NJ             137        415     358-1921                 no   \n",
       "3    OH              84        408     375-9999                yes   \n",
       "4    OK              75        415     330-6626                yes   \n",
       "\n",
       "  voice mail plan  number vmail messages  total day minutes  total day calls  \\\n",
       "0             yes                     25              265.1              110   \n",
       "1             yes                     26              161.6              123   \n",
       "2              no                      0              243.4              114   \n",
       "3              no                      0              299.4               71   \n",
       "4              no                      0              166.7              113   \n",
       "\n",
       "   total day charge  ...  total eve calls  total eve charge  \\\n",
       "0             45.07  ...               99             16.78   \n",
       "1             27.47  ...              103             16.62   \n",
       "2             41.38  ...              110             10.30   \n",
       "3             50.90  ...               88              5.26   \n",
       "4             28.34  ...              122             12.61   \n",
       "\n",
       "   total night minutes  total night calls  total night charge  \\\n",
       "0                244.7                 91               11.01   \n",
       "1                254.4                103               11.45   \n",
       "2                162.6                104                7.32   \n",
       "3                196.9                 89                8.86   \n",
       "4                186.9                121                8.41   \n",
       "\n",
       "   total intl minutes  total intl calls  total intl charge  \\\n",
       "0                10.0                 3               2.70   \n",
       "1                13.7                 3               3.70   \n",
       "2                12.2                 5               3.29   \n",
       "3                 6.6                 7               1.78   \n",
       "4                10.1                 3               2.73   \n",
       "\n",
       "   customer service calls  churn  \n",
       "0                       1  False  \n",
       "1                       1  False  \n",
       "2                       0  False  \n",
       "3                       2  False  \n",
       "4                       3  False  \n",
       "\n",
       "[5 rows x 21 columns]"
      ]
     },
     "execution_count": 29,
     "metadata": {},
     "output_type": "execute_result"
    }
   ],
   "source": [
    "all_churn = pd.read_csv('telecom_churn.csv')\n",
    "all_churn.head()"
   ]
  },
  {
   "cell_type": "code",
   "execution_count": 144,
   "metadata": {
    "id": "V_OcIYg5dEM7"
   },
   "outputs": [
    {
     "data": {
      "text/plain": [
       "[]"
      ]
     },
     "execution_count": 144,
     "metadata": {},
     "output_type": "execute_result"
    },
    {
     "data": {
      "image/png": "[encoded data removed]",
      "text/plain": [
       "<Figure size 1440x720 with 1 Axes>"
      ]
     },
     "metadata": {
      "needs_background": "light"
     },
     "output_type": "display_data"
    }
   ],
   "source": [
    "from statsmodels.stats.weightstats import _zconfint_generic, _tconfint_generic\n",
    "\n",
    "plt.figure(figsize=(20,10))\n",
    "all_churn = pd.read_csv('telecom_churn.csv')\n",
    "daycalls = all_churn[['total day calls' , 'churn']]\n",
    "\n",
    "churn_binary_true = daycalls[daycalls['churn'] == True]\n",
    "daycalls_true = churn_binary_true['total day calls']\n",
    "churn_binary_false = daycalls[daycalls['churn'] == False]\n",
    "daycalls_false = churn_binary_false['total day calls']\n",
    "\n",
    "N = daycalls_true.count() # подставлял ещё daycalls_true.count(), но получается не презентабельно. Как будет верно?\n",
    "x = np.linspace(99,103,100)\n",
    "norm_daycalls_true = sts.norm(loc=daycalls_true.mean(), scale=daycalls_true.std() / np.sqrt(N))\n",
    "pdf = norm_daycalls_true.pdf(x)\n",
    "plt.plot(x, pdf, label='теоретическая плотность по ушедшим', alpha=0.5)\n",
    "\n",
    "data_true = norm_daycalls_true.rvs(N)\n",
    "a1 = np.mean(data_true) - 2 * norm_daycalls_true.std() / np.sqrt(N)\n",
    "b1 = np.mean(data_true) + 2 * norm_daycalls_true.std() / np.sqrt(N) \n",
    "\n",
    "\n",
    "z_true = _zconfint_generic(daycalls_true.mean(), np.sqrt(norm_daycalls_true.var()/len(daycalls_true)), 0.05, 'two-sided')\n",
    "to_fill_true = np.linspace(a1, b1, 100)\n",
    "plt.fill_between(to_fill_true, norm_daycalls_true.pdf(to_fill_true), alpha=0.5, color='red', label = 'Доверительный интервал по ушедшим')\n",
    "plt.fill_between(z_true, norm_daycalls_true.pdf(z_true), alpha=0.2, color='yellow', label = 'Z - интервал по ушедшим')\n",
    "\n",
    "M = daycalls_false.count()\n",
    "norm_daycalls_false = sts.norm(loc=daycalls_false.mean(), scale=daycalls_false.std() / np.sqrt(M))\n",
    "pdf_2 = norm_daycalls_false.pdf(x)\n",
    "plt.plot(x, pdf_2, label='теоретическая плотность по оставшимся', alpha=0.5)\n",
    "\n",
    "data_false = norm_daycalls_false.rvs(M)\n",
    "\n",
    "a2 = np.mean(data_false) - 2 * norm_daycalls_false.std() / np.sqrt(M)\n",
    "b2 = np.mean(data_false) + 2 * norm_daycalls_false.std() / np.sqrt(M) \n",
    "\n",
    "z_false = _zconfint_generic(daycalls_false.mean(), np.sqrt(norm_daycalls_false.var()/len(daycalls_false)), 0.05, 'two-sided')\n",
    "to_fill_false = np.linspace(a2, b2, 100)\n",
    "plt.fill_between(to_fill_false, norm_daycalls_false.pdf(to_fill_false), alpha=0.5, color='green', label = 'Доверительный интервал по оставшимся')\n",
    "plt.fill_between(z_false, norm_daycalls_false.pdf(z_false), alpha=0.4, color='blue', label = 'Z - интервал по оставшимся')\n",
    "\n",
    "\n",
    "\n",
    "\n",
    "\n",
    "\n",
    "\n",
    "plt.legend(loc = 'upper right')\n",
    "plt.plot()"
   ]
  }
 ],
 "metadata": {
  "colab": {
   "collapsed_sections": [],
   "name": "Практика_к_занятию_12-empty.ipynb",
   "provenance": []
  },
  "kernelspec": {
   "display_name": "Python 3",
   "language": "python",
   "name": "python3"
  },
  "language_info": {
   "codemirror_mode": {
    "name": "ipython",
    "version": 3
   },
   "file_extension": ".py",
   "mimetype": "text/x-python",
   "name": "python",
   "nbconvert_exporter": "python",
   "pygments_lexer": "ipython3",
   "version": "3.8.3"
  }
 },
 "nbformat": 4,
 "nbformat_minor": 1
}
