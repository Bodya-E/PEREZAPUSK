{
 "cells": [
  {
   "cell_type": "code",
   "execution_count": null,
   "metadata": {
    "id": "A1G_dZ4W3d6A",
    "outputId": "c4c91793-b019-4b9e-ba57-fd8fd508b492"
   },
   "outputs": [
    {
     "data": {
      "image/jpeg": "[encoded data removed]",
      "text/html": [
       "\n",
       "        <iframe\n",
       "            width=\"800\"\n",
       "            height=\"300\"\n",
       "            src=\"https://www.youtube.com/embed/lyDLAutA88s\"\n",
       "            frameborder=\"0\"\n",
       "            allowfullscreen\n",
       "        ></iframe>\n",
       "        "
      ],
      "text/plain": [
       "<IPython.lib.display.YouTubeVideo at 0x10495abb0>"
      ]
     },
     "execution_count": 2,
     "metadata": {
      "tags": []
     },
     "output_type": "execute_result"
    }
   ],
   "source": [
    "from IPython.display import YouTubeVideo\n",
    "YouTubeVideo('lyDLAutA88s', width=800, height=300)"
   ]
  },
  {
   "cell_type": "code",
   "execution_count": null,
   "metadata": {
    "id": "R0tDwNwe3d6T"
   },
   "outputs": [],
   "source": [
    "# 1. Посмотрите видео Дэвида Бизли про всроенные инструменты Python\n",
    "# 2. Попробуйте используя встроенные инструменты Python проанизировать таблицу из файла \"Vacancy.csv\"\n",
    "# 3. Попробуйте ответить на вопросы:\n",
    "# Сколько вакансий, которые вам нравятся?\n",
    "# Насколько свежие эти вакансии?\n",
    "# Сколько вакансий с позициями на которых вы работаете?\n",
    "# Сколько вакансий для аналатика данных?\n",
    "# Сколько вакансий для аналитика данных с использованием Python?\n",
    "\n",
    "# В задании важно не использовать pandas и numpy, а встроенные инструменты python\n",
    "# Counter, CSV, defaultdict, sorted"
   ]
  },
  {
   "cell_type": "code",
   "execution_count": 2,
   "metadata": {
    "id": "pbotknKS3d6V"
   },
   "outputs": [],
   "source": [
    "import csv"
   ]
  },
  {
   "cell_type": "code",
   "execution_count": 3,
   "metadata": {
    "id": "ZjAPWx3b3d6W"
   },
   "outputs": [],
   "source": [
    "import sys"
   ]
  },
  {
   "cell_type": "code",
   "execution_count": 4,
   "metadata": {
    "colab": {
     "base_uri": "https://localhost:8080/"
    },
    "id": "SaepqjrT3d6W",
    "outputId": "d5463ac0-053d-44d7-fca8-2773e5ed1cb5",
    "scrolled": true
   },
   "outputs": [
    {
     "data": {
      "text/plain": [
       "131072"
      ]
     },
     "execution_count": 4,
     "metadata": {},
     "output_type": "execute_result"
    }
   ],
   "source": [
    "csv.field_size_limit(100000000)"
   ]
  },
  {
   "cell_type": "code",
   "execution_count": 5,
   "metadata": {
    "id": "B7lYVG7b3d6Y"
   },
   "outputs": [],
   "source": [
    "vacs = list(csv.DictReader(open('vacancy.csv',encoding='utf-8',newline='')))"
   ]
  },
  {
   "cell_type": "code",
   "execution_count": 22,
   "metadata": {
    "id": "vrRzCuPS3d6b",
    "scrolled": true
   },
   "outputs": [
    {
     "name": "stdout",
     "output_type": "stream",
     "text": [
      "1474941\n",
      "1476154\n",
      "1479834\n",
      "1484458\n"
     ]
    }
   ],
   "source": [
    "for line in vacs[:4]:\n",
    "  print(line['vacid'])\n",
    "  "
   ]
  },
  {
   "cell_type": "code",
   "execution_count": 8,
   "metadata": {
    "colab": {
     "base_uri": "https://localhost:8080/"
    },
    "id": "GrGlH7Dn8L0Y",
    "outputId": "260334f8-bf93-44a1-b020-ddfda175782d"
   },
   "outputs": [
    {
     "data": {
      "text/plain": [
       "4002"
      ]
     },
     "execution_count": 8,
     "metadata": {},
     "output_type": "execute_result"
    }
   ],
   "source": [
    "len(vacs)"
   ]
  },
  {
   "cell_type": "code",
   "execution_count": 25,
   "metadata": {
    "id": "vz7gzztsXt7v"
   },
   "outputs": [],
   "source": [
    "analytics = [ line for line in vacs if line['vactitle'].find('Аналитик') != -1 or line['vactitle'].find('аналитик') != -1]"
   ]
  },
  {
   "cell_type": "markdown",
   "metadata": {},
   "source": [
    "Итого Вакансий аналитиков - 389:"
   ]
  },
  {
   "cell_type": "code",
   "execution_count": 27,
   "metadata": {
    "colab": {
     "base_uri": "https://localhost:8080/"
    },
    "id": "s1AcRXAhX12y",
    "outputId": "2cfdf3f0-fd69-45d6-e118-2d9ca97ffad3"
   },
   "outputs": [
    {
     "data": {
      "text/plain": [
       "389"
      ]
     },
     "execution_count": 27,
     "metadata": {},
     "output_type": "execute_result"
    }
   ],
   "source": [
    "len(analytics)"
   ]
  },
  {
   "cell_type": "code",
   "execution_count": 28,
   "metadata": {
    "id": "Zn4b4yGaY0Qi",
    "scrolled": false
   },
   "outputs": [
    {
     "name": "stdout",
     "output_type": "stream",
     "text": [
      "Аналитик/разработчик  (Программа 'Миграция Legacy АС на Фабрику Данных')\n",
      "Data - аналитик\n",
      "Системный аналитик. Сервис Автокредитование\n",
      "Аналитик (информационная безопасность)\n"
     ]
    }
   ],
   "source": [
    "for line in analytics[:4]:\n",
    "  print(line['vactitle'])"
   ]
  },
  {
   "cell_type": "markdown",
   "metadata": {},
   "source": [
    "Создаем выборку аналитиков с требованием знания Python"
   ]
  },
  {
   "cell_type": "code",
   "execution_count": 33,
   "metadata": {},
   "outputs": [],
   "source": [
    "analytics_python = [ line for line in vacs if (line['vactitle'].find('Аналитик') != -1 or line['vactitle'].find('аналитик') != -1) and (line['vacdescription'].find('Python') != -1 or line['vacdescription'].find('python') != -1)]"
   ]
  },
  {
   "cell_type": "markdown",
   "metadata": {},
   "source": [
    "Итого вакансий аналитиков - питонистов = 57:"
   ]
  },
  {
   "cell_type": "code",
   "execution_count": 34,
   "metadata": {},
   "outputs": [
    {
     "data": {
      "text/plain": [
       "57"
      ]
     },
     "execution_count": 34,
     "metadata": {},
     "output_type": "execute_result"
    }
   ],
   "source": [
    "len(analytics_python)"
   ]
  },
  {
   "cell_type": "code",
   "execution_count": 17,
   "metadata": {
    "id": "1UliBLlheuZ5"
   },
   "outputs": [],
   "source": [
    "import datetime"
   ]
  },
  {
   "cell_type": "markdown",
   "metadata": {
    "id": "j91ZgG9pteuB"
   },
   "source": [
    "Выводим возраст вакансий и добавляем в строки поиска:"
   ]
  },
  {
   "cell_type": "code",
   "execution_count": 35,
   "metadata": {
    "id": "EZHoS61hldet"
   },
   "outputs": [],
   "source": [
    "for line in analytics_python:\n",
    "    vacancy_age = datetime.datetime.now() - datetime.datetime.strptime(line['vacdate'],'%Y-%m-%d')\n",
    "    y = [('vacancy_age', vacancy_age.days)]\n",
    "    line.update (y)\n"
   ]
  },
  {
   "cell_type": "markdown",
   "metadata": {},
   "source": [
    "Проверяем, что 'vacancy_age' прикрепилось к вакансиям в выборке:"
   ]
  },
  {
   "cell_type": "code",
   "execution_count": 58,
   "metadata": {},
   "outputs": [
    {
     "data": {
      "text/plain": [
       "{'id': '384364',\n",
       " 'created_at': '2021-03-14 09:39:21.854462',\n",
       " 'updated_at': '2021-03-14 09:39:21.854584',\n",
       " 'vacid': '1522969',\n",
       " 'vactitle': 'Ведущий аналитик',\n",
       " 'vacdescription': 'Мы – Трайб «Управление модельного риска». Мы разрабатываем новую инновационную Платформу Sberbank.DS Ecosystem. Это линейка продуктов, решающая задачи Сбербанка по ускоренной разработке, валидации и мониторингу AI моделей. Стратегически планируется продвижение Платформы (коробочный продукт, облачные сервисы) на российский и международный рынок. Развитие Платформы соответствует мировым трендам «демократизации AI», когда разработка модели превращается в задачу, доступную любому пользователю через средства визуального проектирования и использование библиотеки готовых компонентов. Мировой рынок систем подобного класса оценивается в 150+ млрд. долларов. Наши конкуренты – Google, Microsoft, Amazon, SAS, IBM, Huawei. Важной частью экосистемы Sberbank.DS является проект Библиотека моделей (MMS).Целевая аудитория системы - все блоки банка. В будущем - продвижение вместе со всей экосистемой.Продукт управляет жизненным циклом моделей - от заявки на разработку до вывода в пром и сбор метрик в процессе эксплуатацииВ рамках продукта мы решаем задачи (основные, список не исчерпывающий):- Работа пользователей с моделью в рамках workflow (заказчики, разработчики, валидаторы, девопсы, ...)- Интеграция с модулями экосистемы- Интеграция с системами исполнения моделей- Интеграция с системами контроля версий- Интеграция с базовыми системами банка В связи с ростом продукта, команды и количества задач мы ищем опытного аналитика для участия в развитии Библиотеки моделей.Вам предстоит разрабатывать новый и поддерживать существующий функционал системы. О нас- Нас 17 человек: две команды, Scala и Java, работающие над одним продуктом- Аналитика, архитектура, тестирование, UX и фронтэнд - общие- Вместе с вами в команде будет 3 аналитика- Работаем по Канбан, но со всеми мероприятиями Agile- Продукт активно развивается и растет, вы можете поучаствовать в становлении продукта и помочь сделать его по-настоящему зрелым- Вам предстоит влиться в команду и участвовать во внедрении новых фич продукта Обязательные требования- Главное - готовность брать на себя ответственность за продукт и задачи, понимание и желание работать в режиме, ориентированном на получение бизнес-результата- Опыт работы по специальности от 3 лет- Высшее техническое образование- Понимание цикла разработки ПО, знание различных подходов- Ориентация на результат и продуктовый подход к разработке- Владение методологиями и инструментами документирования программных продуктов – Jira, Confluence- Хорошее понимание технологий разработки веб-сервисов (BackEnd/FrontEnd, API, XML, Json)- Хорошее понимание архитектурных основ для описания интеграционных процессов между системами (XML Schema и пр.) - SQL на среднем уровне (написание несложных запросов с JOIN)- Владение различными нотациями - BPMN, UML, Use Case, EPC- Знание методологий Agile (Scrum, Kanban)Nice to have:- Знание основ математической статистики и анализа данных- Знание одного из языков программирования Java, Scala, Python Обязанности:- Сбор бизнес-требований – обработка, анализ и структурирование входящей информации- Системный анализ, проработка интеграционных процессов, контроль корректной реализации на всех этапах проекта- Помощь в тестировании на этапе приемки продукта- Помощь на этапе UAT- Участие в разборе ошибок и сложных вопросов пользователей- Участие во всех командных мероприятиях (планирование, ретроспектива, stand-up, демо) Ближайшие планы и вызовы:- Работа по интеграции с JIRA (API)- Вынос и рефакторинг кода из монолита в микросервисы- Тесная интеграция и переиспользование сервисов экосистемы SDSМы – Трайб «Управление модельного риска». Мы разрабатываем новую инновационную Платформу Sberbank.DS Ecosystem. Это линейка продуктов, решающая задачи Сбербанка по ускоренной разработке, валидации и мониторингу AI моделей. Стратегически планируется продвижение Платформы (коробочный продукт, облачные сервисы) на российский и международный рынок. Развитие Платформы соответствует мировым трендам «демократизации AI», когда разработка модели превращается в задачу, доступную любому пользователю через средства визуального проектирования и использование библиотеки готовых компонентов. Мировой рынок систем подобного класса оценивается в 150+ млрд. долларов. Наши конкуренты – Google, Microsoft, Amazon, SAS, IBM, Huawei. Важной частью экосистемы Sberbank.DS является проект Библиотека моделей (MMS).Целевая аудитория системы - все блоки банка. В будущем - продвижение вместе со всей экосистемой.Продукт управляет жизненным циклом моделей - от заявки на разработку до вывода в пром и сбор метрик в процессе эксплуатацииВ рамках продукта мы решаем задачи (основные, список не исчерпывающий):- Работа пользователей с моделью в рамках workflow (заказчики, разработчики, валидаторы, девопсы, ...)- Интеграция с модулями экосистемы- Интеграция с системами исполнения моделей- Интеграция с системами контроля версий- Интеграция с базовыми системами банка В связи с ростом продукта, команды и количества задач мы ищем опытного аналитика для участия в развитии Библиотеки моделей.Вам предстоит разрабатывать новый и поддерживать существующий функционал системы. О нас- Нас 17 человек: две команды, Scala и Java, работающие над одним продуктом- Аналитика, архитектура, тестирование, UX и фронтэнд - общие- Вместе с вами в команде будет 3 аналитика- Работаем по Канбан, но со всеми мероприятиями Agile- Продукт активно развивается и растет, вы можете поучаствовать в становлении продукта и помочь сделать его по-настоящему зрелым- Вам предстоит влиться в команду и участвовать во внедрении новых фич продукта Обязательные требования- Главное - готовность брать на себя ответственность за продукт и задачи, понимание и желание работать в режиме, ориентированном на получение бизнес-результата- Опыт работы по специальности от 3 лет- Высшее техническое образование- Понимание цикла разработки ПО, знание различных подходов- Ориентация на результат и продуктовый подход к разработке- Владение методологиями и инструментами документирования программных продуктов – Jira, Confluence- Хорошее понимание технологий разработки веб-сервисов (BackEnd/FrontEnd, API, XML, Json)- Хорошее понимание архитектурных основ для описания интеграционных процессов между системами (XML Schema и пр.) - SQL на среднем уровне (написание несложных запросов с JOIN)- Владение различными нотациями - BPMN, UML, Use Case, EPC- Знание методологий Agile (Scrum, Kanban)Nice to have:- Знание основ математической статистики и анализа данных- Знание одного из языков программирования Java, Scala, Python - Сбор бизнес-требований – обработка, анализ и структурирование входящей информации- Системный анализ, проработка интеграционных процессов, контроль корректной реализации на всех этапах проекта- Помощь в тестировании на этапе приемки продукта- Помощь на этапе UAT- Участие в разборе ошибок и сложных вопросов пользователей- Участие во всех командных мероприятиях (планирование, ретроспектива, stand-up, демо) Ближайшие планы и вызовы:- Работа по интеграции с JIRA (API)- Вынос и рефакторинг кода из монолита в микросервисы- Тесная интеграция и переиспользование сервисов экосистемы SDS',\n",
       " 'vacdate': '2021-03-04',\n",
       " 'vacstatus': 'new',\n",
       " 'vaclink': 'https://my.sbertalents.ru/#/job-requisition/1522969',\n",
       " 'vachtml': '{\"title\": \"\\\\u0412\\\\u0435\\\\u0434\\\\u0443\\\\u0449\\\\u0438\\\\u0439 \\\\u0430\\\\u043d\\\\u0430\\\\u043b\\\\u0438\\\\u0442\\\\u0438\\\\u043a\", \"header\": \"<p>\\\\u041c\\\\u044b &ndash; \\\\u0422\\\\u0440\\\\u0430\\\\u0439\\\\u0431 &laquo;\\\\u0423\\\\u043f\\\\u0440\\\\u0430\\\\u0432\\\\u043b\\\\u0435\\\\u043d\\\\u0438\\\\u0435 \\\\u043c\\\\u043e\\\\u0434\\\\u0435\\\\u043b\\\\u044c\\\\u043d\\\\u043e\\\\u0433\\\\u043e \\\\u0440\\\\u0438\\\\u0441\\\\u043a\\\\u0430&raquo;. \\\\u041c\\\\u044b \\\\u0440\\\\u0430\\\\u0437\\\\u0440\\\\u0430\\\\u0431\\\\u0430\\\\u0442\\\\u044b\\\\u0432\\\\u0430\\\\u0435\\\\u043c \\\\u043d\\\\u043e\\\\u0432\\\\u0443\\\\u044e \\\\u0438\\\\u043d\\\\u043d\\\\u043e\\\\u0432\\\\u0430\\\\u0446\\\\u0438\\\\u043e\\\\u043d\\\\u043d\\\\u0443\\\\u044e \\\\u041f\\\\u043b\\\\u0430\\\\u0442\\\\u0444\\\\u043e\\\\u0440\\\\u043c\\\\u0443 Sberbank.DS Ecosystem. \\\\u042d\\\\u0442\\\\u043e \\\\u043b\\\\u0438\\\\u043d\\\\u0435\\\\u0439\\\\u043a\\\\u0430 \\\\u043f\\\\u0440\\\\u043e\\\\u0434\\\\u0443\\\\u043a\\\\u0442\\\\u043e\\\\u0432, \\\\u0440\\\\u0435\\\\u0448\\\\u0430\\\\u044e\\\\u0449\\\\u0430\\\\u044f \\\\u0437\\\\u0430\\\\u0434\\\\u0430\\\\u0447\\\\u0438 \\\\u0421\\\\u0431\\\\u0435\\\\u0440\\\\u0431\\\\u0430\\\\u043d\\\\u043a\\\\u0430 \\\\u043f\\\\u043e \\\\u0443\\\\u0441\\\\u043a\\\\u043e\\\\u0440\\\\u0435\\\\u043d\\\\u043d\\\\u043e\\\\u0439 \\\\u0440\\\\u0430\\\\u0437\\\\u0440\\\\u0430\\\\u0431\\\\u043e\\\\u0442\\\\u043a\\\\u0435, \\\\u0432\\\\u0430\\\\u043b\\\\u0438\\\\u0434\\\\u0430\\\\u0446\\\\u0438\\\\u0438 \\\\u0438 \\\\u043c\\\\u043e\\\\u043d\\\\u0438\\\\u0442\\\\u043e\\\\u0440\\\\u0438\\\\u043d\\\\u0433\\\\u0443 AI \\\\u043c\\\\u043e\\\\u0434\\\\u0435\\\\u043b\\\\u0435\\\\u0439. \\\\u0421\\\\u0442\\\\u0440\\\\u0430\\\\u0442\\\\u0435\\\\u0433\\\\u0438\\\\u0447\\\\u0435\\\\u0441\\\\u043a\\\\u0438 \\\\u043f\\\\u043b\\\\u0430\\\\u043d\\\\u0438\\\\u0440\\\\u0443\\\\u0435\\\\u0442\\\\u0441\\\\u044f \\\\u043f\\\\u0440\\\\u043e\\\\u0434\\\\u0432\\\\u0438\\\\u0436\\\\u0435\\\\u043d\\\\u0438\\\\u0435 \\\\u041f\\\\u043b\\\\u0430\\\\u0442\\\\u0444\\\\u043e\\\\u0440\\\\u043c\\\\u044b (\\\\u043a\\\\u043e\\\\u0440\\\\u043e\\\\u0431\\\\u043e\\\\u0447\\\\u043d\\\\u044b\\\\u0439 \\\\u043f\\\\u0440\\\\u043e\\\\u0434\\\\u0443\\\\u043a\\\\u0442, \\\\u043e\\\\u0431\\\\u043b\\\\u0430\\\\u0447\\\\u043d\\\\u044b\\\\u0435 \\\\u0441\\\\u0435\\\\u0440\\\\u0432\\\\u0438\\\\u0441\\\\u044b) \\\\u043d\\\\u0430 \\\\u0440\\\\u043e\\\\u0441\\\\u0441\\\\u0438\\\\u0439\\\\u0441\\\\u043a\\\\u0438\\\\u0439 \\\\u0438 \\\\u043c\\\\u0435\\\\u0436\\\\u0434\\\\u0443\\\\u043d\\\\u0430\\\\u0440\\\\u043e\\\\u0434\\\\u043d\\\\u044b\\\\u0439 \\\\u0440\\\\u044b\\\\u043d\\\\u043e\\\\u043a.</p><p>&nbsp;</p><p>\\\\u0420\\\\u0430\\\\u0437\\\\u0432\\\\u0438\\\\u0442\\\\u0438\\\\u0435 \\\\u041f\\\\u043b\\\\u0430\\\\u0442\\\\u0444\\\\u043e\\\\u0440\\\\u043c\\\\u044b \\\\u0441\\\\u043e\\\\u043e\\\\u0442\\\\u0432\\\\u0435\\\\u0442\\\\u0441\\\\u0442\\\\u0432\\\\u0443\\\\u0435\\\\u0442 \\\\u043c\\\\u0438\\\\u0440\\\\u043e\\\\u0432\\\\u044b\\\\u043c \\\\u0442\\\\u0440\\\\u0435\\\\u043d\\\\u0434\\\\u0430\\\\u043c &laquo;\\\\u0434\\\\u0435\\\\u043c\\\\u043e\\\\u043a\\\\u0440\\\\u0430\\\\u0442\\\\u0438\\\\u0437\\\\u0430\\\\u0446\\\\u0438\\\\u0438 AI&raquo;, \\\\u043a\\\\u043e\\\\u0433\\\\u0434\\\\u0430 \\\\u0440\\\\u0430\\\\u0437\\\\u0440\\\\u0430\\\\u0431\\\\u043e\\\\u0442\\\\u043a\\\\u0430 \\\\u043c\\\\u043e\\\\u0434\\\\u0435\\\\u043b\\\\u0438 \\\\u043f\\\\u0440\\\\u0435\\\\u0432\\\\u0440\\\\u0430\\\\u0449\\\\u0430\\\\u0435\\\\u0442\\\\u0441\\\\u044f \\\\u0432 \\\\u0437\\\\u0430\\\\u0434\\\\u0430\\\\u0447\\\\u0443, \\\\u0434\\\\u043e\\\\u0441\\\\u0442\\\\u0443\\\\u043f\\\\u043d\\\\u0443\\\\u044e \\\\u043b\\\\u044e\\\\u0431\\\\u043e\\\\u043c\\\\u0443 \\\\u043f\\\\u043e\\\\u043b\\\\u044c\\\\u0437\\\\u043e\\\\u0432\\\\u0430\\\\u0442\\\\u0435\\\\u043b\\\\u044e \\\\u0447\\\\u0435\\\\u0440\\\\u0435\\\\u0437 \\\\u0441\\\\u0440\\\\u0435\\\\u0434\\\\u0441\\\\u0442\\\\u0432\\\\u0430 \\\\u0432\\\\u0438\\\\u0437\\\\u0443\\\\u0430\\\\u043b\\\\u044c\\\\u043d\\\\u043e\\\\u0433\\\\u043e \\\\u043f\\\\u0440\\\\u043e\\\\u0435\\\\u043a\\\\u0442\\\\u0438\\\\u0440\\\\u043e\\\\u0432\\\\u0430\\\\u043d\\\\u0438\\\\u044f \\\\u0438 \\\\u0438\\\\u0441\\\\u043f\\\\u043e\\\\u043b\\\\u044c\\\\u0437\\\\u043e\\\\u0432\\\\u0430\\\\u043d\\\\u0438\\\\u0435 \\\\u0431\\\\u0438\\\\u0431\\\\u043b\\\\u0438\\\\u043e\\\\u0442\\\\u0435\\\\u043a\\\\u0438 \\\\u0433\\\\u043e\\\\u0442\\\\u043e\\\\u0432\\\\u044b\\\\u0445 \\\\u043a\\\\u043e\\\\u043c\\\\u043f\\\\u043e\\\\u043d\\\\u0435\\\\u043d\\\\u0442\\\\u043e\\\\u0432. \\\\u041c\\\\u0438\\\\u0440\\\\u043e\\\\u0432\\\\u043e\\\\u0439 \\\\u0440\\\\u044b\\\\u043d\\\\u043e\\\\u043a \\\\u0441\\\\u0438\\\\u0441\\\\u0442\\\\u0435\\\\u043c \\\\u043f\\\\u043e\\\\u0434\\\\u043e\\\\u0431\\\\u043d\\\\u043e\\\\u0433\\\\u043e \\\\u043a\\\\u043b\\\\u0430\\\\u0441\\\\u0441\\\\u0430 \\\\u043e\\\\u0446\\\\u0435\\\\u043d\\\\u0438\\\\u0432\\\\u0430\\\\u0435\\\\u0442\\\\u0441\\\\u044f \\\\u0432 150+ \\\\u043c\\\\u043b\\\\u0440\\\\u0434. \\\\u0434\\\\u043e\\\\u043b\\\\u043b\\\\u0430\\\\u0440\\\\u043e\\\\u0432. \\\\u041d\\\\u0430\\\\u0448\\\\u0438 \\\\u043a\\\\u043e\\\\u043d\\\\u043a\\\\u0443\\\\u0440\\\\u0435\\\\u043d\\\\u0442\\\\u044b &ndash; Google, Microsoft, Amazon, SAS, IBM, Huawei.</p><p>&nbsp;</p><p>\\\\u0412\\\\u0430\\\\u0436\\\\u043d\\\\u043e\\\\u0439 \\\\u0447\\\\u0430\\\\u0441\\\\u0442\\\\u044c\\\\u044e \\\\u044d\\\\u043a\\\\u043e\\\\u0441\\\\u0438\\\\u0441\\\\u0442\\\\u0435\\\\u043c\\\\u044b Sberbank.DS \\\\u044f\\\\u0432\\\\u043b\\\\u044f\\\\u0435\\\\u0442\\\\u0441\\\\u044f \\\\u043f\\\\u0440\\\\u043e\\\\u0435\\\\u043a\\\\u0442 \\\\u0411\\\\u0438\\\\u0431\\\\u043b\\\\u0438\\\\u043e\\\\u0442\\\\u0435\\\\u043a\\\\u0430 \\\\u043c\\\\u043e\\\\u0434\\\\u0435\\\\u043b\\\\u0435\\\\u0439 (MMS).</p><p>\\\\u0426\\\\u0435\\\\u043b\\\\u0435\\\\u0432\\\\u0430\\\\u044f \\\\u0430\\\\u0443\\\\u0434\\\\u0438\\\\u0442\\\\u043e\\\\u0440\\\\u0438\\\\u044f \\\\u0441\\\\u0438\\\\u0441\\\\u0442\\\\u0435\\\\u043c\\\\u044b - \\\\u0432\\\\u0441\\\\u0435 \\\\u0431\\\\u043b\\\\u043e\\\\u043a\\\\u0438 \\\\u0431\\\\u0430\\\\u043d\\\\u043a\\\\u0430. \\\\u0412 \\\\u0431\\\\u0443\\\\u0434\\\\u0443\\\\u0449\\\\u0435\\\\u043c - \\\\u043f\\\\u0440\\\\u043e\\\\u0434\\\\u0432\\\\u0438\\\\u0436\\\\u0435\\\\u043d\\\\u0438\\\\u0435 \\\\u0432\\\\u043c\\\\u0435\\\\u0441\\\\u0442\\\\u0435 \\\\u0441\\\\u043e \\\\u0432\\\\u0441\\\\u0435\\\\u0439 \\\\u044d\\\\u043a\\\\u043e\\\\u0441\\\\u0438\\\\u0441\\\\u0442\\\\u0435\\\\u043c\\\\u043e\\\\u0439.</p><p>\\\\u041f\\\\u0440\\\\u043e\\\\u0434\\\\u0443\\\\u043a\\\\u0442 \\\\u0443\\\\u043f\\\\u0440\\\\u0430\\\\u0432\\\\u043b\\\\u044f\\\\u0435\\\\u0442 \\\\u0436\\\\u0438\\\\u0437\\\\u043d\\\\u0435\\\\u043d\\\\u043d\\\\u044b\\\\u043c \\\\u0446\\\\u0438\\\\u043a\\\\u043b\\\\u043e\\\\u043c \\\\u043c\\\\u043e\\\\u0434\\\\u0435\\\\u043b\\\\u0435\\\\u0439 - \\\\u043e\\\\u0442 \\\\u0437\\\\u0430\\\\u044f\\\\u0432\\\\u043a\\\\u0438 \\\\u043d\\\\u0430 \\\\u0440\\\\u0430\\\\u0437\\\\u0440\\\\u0430\\\\u0431\\\\u043e\\\\u0442\\\\u043a\\\\u0443 \\\\u0434\\\\u043e \\\\u0432\\\\u044b\\\\u0432\\\\u043e\\\\u0434\\\\u0430 \\\\u0432 \\\\u043f\\\\u0440\\\\u043e\\\\u043c \\\\u0438 \\\\u0441\\\\u0431\\\\u043e\\\\u0440 \\\\u043c\\\\u0435\\\\u0442\\\\u0440\\\\u0438\\\\u043a \\\\u0432 \\\\u043f\\\\u0440\\\\u043e\\\\u0446\\\\u0435\\\\u0441\\\\u0441\\\\u0435 \\\\u044d\\\\u043a\\\\u0441\\\\u043f\\\\u043b\\\\u0443\\\\u0430\\\\u0442\\\\u0430\\\\u0446\\\\u0438\\\\u0438</p><p>\\\\u0412 \\\\u0440\\\\u0430\\\\u043c\\\\u043a\\\\u0430\\\\u0445 \\\\u043f\\\\u0440\\\\u043e\\\\u0434\\\\u0443\\\\u043a\\\\u0442\\\\u0430 \\\\u043c\\\\u044b \\\\u0440\\\\u0435\\\\u0448\\\\u0430\\\\u0435\\\\u043c \\\\u0437\\\\u0430\\\\u0434\\\\u0430\\\\u0447\\\\u0438 (\\\\u043e\\\\u0441\\\\u043d\\\\u043e\\\\u0432\\\\u043d\\\\u044b\\\\u0435, \\\\u0441\\\\u043f\\\\u0438\\\\u0441\\\\u043e\\\\u043a \\\\u043d\\\\u0435 \\\\u0438\\\\u0441\\\\u0447\\\\u0435\\\\u0440\\\\u043f\\\\u044b\\\\u0432\\\\u0430\\\\u044e\\\\u0449\\\\u0438\\\\u0439):</p><p>- \\\\u0420\\\\u0430\\\\u0431\\\\u043e\\\\u0442\\\\u0430 \\\\u043f\\\\u043e\\\\u043b\\\\u044c\\\\u0437\\\\u043e\\\\u0432\\\\u0430\\\\u0442\\\\u0435\\\\u043b\\\\u0435\\\\u0439 \\\\u0441 \\\\u043c\\\\u043e\\\\u0434\\\\u0435\\\\u043b\\\\u044c\\\\u044e \\\\u0432 \\\\u0440\\\\u0430\\\\u043c\\\\u043a\\\\u0430\\\\u0445 workflow (\\\\u0437\\\\u0430\\\\u043a\\\\u0430\\\\u0437\\\\u0447\\\\u0438\\\\u043a\\\\u0438, \\\\u0440\\\\u0430\\\\u0437\\\\u0440\\\\u0430\\\\u0431\\\\u043e\\\\u0442\\\\u0447\\\\u0438\\\\u043a\\\\u0438, \\\\u0432\\\\u0430\\\\u043b\\\\u0438\\\\u0434\\\\u0430\\\\u0442\\\\u043e\\\\u0440\\\\u044b, \\\\u0434\\\\u0435\\\\u0432\\\\u043e\\\\u043f\\\\u0441\\\\u044b, ...)</p><p>- \\\\u0418\\\\u043d\\\\u0442\\\\u0435\\\\u0433\\\\u0440\\\\u0430\\\\u0446\\\\u0438\\\\u044f \\\\u0441 \\\\u043c\\\\u043e\\\\u0434\\\\u0443\\\\u043b\\\\u044f\\\\u043c\\\\u0438 \\\\u044d\\\\u043a\\\\u043e\\\\u0441\\\\u0438\\\\u0441\\\\u0442\\\\u0435\\\\u043c\\\\u044b</p><p>- \\\\u0418\\\\u043d\\\\u0442\\\\u0435\\\\u0433\\\\u0440\\\\u0430\\\\u0446\\\\u0438\\\\u044f \\\\u0441 \\\\u0441\\\\u0438\\\\u0441\\\\u0442\\\\u0435\\\\u043c\\\\u0430\\\\u043c\\\\u0438 \\\\u0438\\\\u0441\\\\u043f\\\\u043e\\\\u043b\\\\u043d\\\\u0435\\\\u043d\\\\u0438\\\\u044f \\\\u043c\\\\u043e\\\\u0434\\\\u0435\\\\u043b\\\\u0435\\\\u0439</p><p>- \\\\u0418\\\\u043d\\\\u0442\\\\u0435\\\\u0433\\\\u0440\\\\u0430\\\\u0446\\\\u0438\\\\u044f \\\\u0441 \\\\u0441\\\\u0438\\\\u0441\\\\u0442\\\\u0435\\\\u043c\\\\u0430\\\\u043c\\\\u0438 \\\\u043a\\\\u043e\\\\u043d\\\\u0442\\\\u0440\\\\u043e\\\\u043b\\\\u044f \\\\u0432\\\\u0435\\\\u0440\\\\u0441\\\\u0438\\\\u0439</p><p>- \\\\u0418\\\\u043d\\\\u0442\\\\u0435\\\\u0433\\\\u0440\\\\u0430\\\\u0446\\\\u0438\\\\u044f \\\\u0441 \\\\u0431\\\\u0430\\\\u0437\\\\u043e\\\\u0432\\\\u044b\\\\u043c\\\\u0438 \\\\u0441\\\\u0438\\\\u0441\\\\u0442\\\\u0435\\\\u043c\\\\u0430\\\\u043c\\\\u0438 \\\\u0431\\\\u0430\\\\u043d\\\\u043a\\\\u0430</p><p>&nbsp;</p><p>\\\\u0412 \\\\u0441\\\\u0432\\\\u044f\\\\u0437\\\\u0438 \\\\u0441 \\\\u0440\\\\u043e\\\\u0441\\\\u0442\\\\u043e\\\\u043c \\\\u043f\\\\u0440\\\\u043e\\\\u0434\\\\u0443\\\\u043a\\\\u0442\\\\u0430, \\\\u043a\\\\u043e\\\\u043c\\\\u0430\\\\u043d\\\\u0434\\\\u044b \\\\u0438 \\\\u043a\\\\u043e\\\\u043b\\\\u0438\\\\u0447\\\\u0435\\\\u0441\\\\u0442\\\\u0432\\\\u0430 \\\\u0437\\\\u0430\\\\u0434\\\\u0430\\\\u0447 \\\\u043c\\\\u044b \\\\u0438\\\\u0449\\\\u0435\\\\u043c \\\\u043e\\\\u043f\\\\u044b\\\\u0442\\\\u043d\\\\u043e\\\\u0433\\\\u043e \\\\u0430\\\\u043d\\\\u0430\\\\u043b\\\\u0438\\\\u0442\\\\u0438\\\\u043a\\\\u0430 \\\\u0434\\\\u043b\\\\u044f \\\\u0443\\\\u0447\\\\u0430\\\\u0441\\\\u0442\\\\u0438\\\\u044f \\\\u0432 \\\\u0440\\\\u0430\\\\u0437\\\\u0432\\\\u0438\\\\u0442\\\\u0438\\\\u0438 \\\\u0411\\\\u0438\\\\u0431\\\\u043b\\\\u0438\\\\u043e\\\\u0442\\\\u0435\\\\u043a\\\\u0438 \\\\u043c\\\\u043e\\\\u0434\\\\u0435\\\\u043b\\\\u0435\\\\u0439.</p><p>\\\\u0412\\\\u0430\\\\u043c \\\\u043f\\\\u0440\\\\u0435\\\\u0434\\\\u0441\\\\u0442\\\\u043e\\\\u0438\\\\u0442 \\\\u0440\\\\u0430\\\\u0437\\\\u0440\\\\u0430\\\\u0431\\\\u0430\\\\u0442\\\\u044b\\\\u0432\\\\u0430\\\\u0442\\\\u044c \\\\u043d\\\\u043e\\\\u0432\\\\u044b\\\\u0439 \\\\u0438 \\\\u043f\\\\u043e\\\\u0434\\\\u0434\\\\u0435\\\\u0440\\\\u0436\\\\u0438\\\\u0432\\\\u0430\\\\u0442\\\\u044c \\\\u0441\\\\u0443\\\\u0449\\\\u0435\\\\u0441\\\\u0442\\\\u0432\\\\u0443\\\\u044e\\\\u0449\\\\u0438\\\\u0439 \\\\u0444\\\\u0443\\\\u043d\\\\u043a\\\\u0446\\\\u0438\\\\u043e\\\\u043d\\\\u0430\\\\u043b \\\\u0441\\\\u0438\\\\u0441\\\\u0442\\\\u0435\\\\u043c\\\\u044b.</p><p>&nbsp;</p><p><strong>\\\\u041e \\\\u043d\\\\u0430\\\\u0441</strong></p><p>- \\\\u041d\\\\u0430\\\\u0441 17 \\\\u0447\\\\u0435\\\\u043b\\\\u043e\\\\u0432\\\\u0435\\\\u043a: \\\\u0434\\\\u0432\\\\u0435 \\\\u043a\\\\u043e\\\\u043c\\\\u0430\\\\u043d\\\\u0434\\\\u044b, Scala \\\\u0438 Java, \\\\u0440\\\\u0430\\\\u0431\\\\u043e\\\\u0442\\\\u0430\\\\u044e\\\\u0449\\\\u0438\\\\u0435 \\\\u043d\\\\u0430\\\\u0434 \\\\u043e\\\\u0434\\\\u043d\\\\u0438\\\\u043c \\\\u043f\\\\u0440\\\\u043e\\\\u0434\\\\u0443\\\\u043a\\\\u0442\\\\u043e\\\\u043c</p><p>- \\\\u0410\\\\u043d\\\\u0430\\\\u043b\\\\u0438\\\\u0442\\\\u0438\\\\u043a\\\\u0430, \\\\u0430\\\\u0440\\\\u0445\\\\u0438\\\\u0442\\\\u0435\\\\u043a\\\\u0442\\\\u0443\\\\u0440\\\\u0430, \\\\u0442\\\\u0435\\\\u0441\\\\u0442\\\\u0438\\\\u0440\\\\u043e\\\\u0432\\\\u0430\\\\u043d\\\\u0438\\\\u0435, UX \\\\u0438 \\\\u0444\\\\u0440\\\\u043e\\\\u043d\\\\u0442\\\\u044d\\\\u043d\\\\u0434 - \\\\u043e\\\\u0431\\\\u0449\\\\u0438\\\\u0435</p><p>- \\\\u0412\\\\u043c\\\\u0435\\\\u0441\\\\u0442\\\\u0435 \\\\u0441 \\\\u0432\\\\u0430\\\\u043c\\\\u0438 \\\\u0432 \\\\u043a\\\\u043e\\\\u043c\\\\u0430\\\\u043d\\\\u0434\\\\u0435 \\\\u0431\\\\u0443\\\\u0434\\\\u0435\\\\u0442 3 \\\\u0430\\\\u043d\\\\u0430\\\\u043b\\\\u0438\\\\u0442\\\\u0438\\\\u043a\\\\u0430</p><p>- \\\\u0420\\\\u0430\\\\u0431\\\\u043e\\\\u0442\\\\u0430\\\\u0435\\\\u043c \\\\u043f\\\\u043e \\\\u041a\\\\u0430\\\\u043d\\\\u0431\\\\u0430\\\\u043d, \\\\u043d\\\\u043e \\\\u0441\\\\u043e \\\\u0432\\\\u0441\\\\u0435\\\\u043c\\\\u0438 \\\\u043c\\\\u0435\\\\u0440\\\\u043e\\\\u043f\\\\u0440\\\\u0438\\\\u044f\\\\u0442\\\\u0438\\\\u044f\\\\u043c\\\\u0438 Agile</p><p>- \\\\u041f\\\\u0440\\\\u043e\\\\u0434\\\\u0443\\\\u043a\\\\u0442 \\\\u0430\\\\u043a\\\\u0442\\\\u0438\\\\u0432\\\\u043d\\\\u043e \\\\u0440\\\\u0430\\\\u0437\\\\u0432\\\\u0438\\\\u0432\\\\u0430\\\\u0435\\\\u0442\\\\u0441\\\\u044f \\\\u0438 \\\\u0440\\\\u0430\\\\u0441\\\\u0442\\\\u0435\\\\u0442, \\\\u0432\\\\u044b \\\\u043c\\\\u043e\\\\u0436\\\\u0435\\\\u0442\\\\u0435 \\\\u043f\\\\u043e\\\\u0443\\\\u0447\\\\u0430\\\\u0441\\\\u0442\\\\u0432\\\\u043e\\\\u0432\\\\u0430\\\\u0442\\\\u044c \\\\u0432 \\\\u0441\\\\u0442\\\\u0430\\\\u043d\\\\u043e\\\\u0432\\\\u043b\\\\u0435\\\\u043d\\\\u0438\\\\u0438 \\\\u043f\\\\u0440\\\\u043e\\\\u0434\\\\u0443\\\\u043a\\\\u0442\\\\u0430 \\\\u0438 \\\\u043f\\\\u043e\\\\u043c\\\\u043e\\\\u0447\\\\u044c \\\\u0441\\\\u0434\\\\u0435\\\\u043b\\\\u0430\\\\u0442\\\\u044c \\\\u0435\\\\u0433\\\\u043e \\\\u043f\\\\u043e-\\\\u043d\\\\u0430\\\\u0441\\\\u0442\\\\u043e\\\\u044f\\\\u0449\\\\u0435\\\\u043c\\\\u0443 \\\\u0437\\\\u0440\\\\u0435\\\\u043b\\\\u044b\\\\u043c</p><p>- \\\\u0412\\\\u0430\\\\u043c \\\\u043f\\\\u0440\\\\u0435\\\\u0434\\\\u0441\\\\u0442\\\\u043e\\\\u0438\\\\u0442 \\\\u0432\\\\u043b\\\\u0438\\\\u0442\\\\u044c\\\\u0441\\\\u044f \\\\u0432 \\\\u043a\\\\u043e\\\\u043c\\\\u0430\\\\u043d\\\\u0434\\\\u0443 \\\\u0438 \\\\u0443\\\\u0447\\\\u0430\\\\u0441\\\\u0442\\\\u0432\\\\u043e\\\\u0432\\\\u0430\\\\u0442\\\\u044c \\\\u0432\\\\u043e \\\\u0432\\\\u043d\\\\u0435\\\\u0434\\\\u0440\\\\u0435\\\\u043d\\\\u0438\\\\u0438 \\\\u043d\\\\u043e\\\\u0432\\\\u044b\\\\u0445 \\\\u0444\\\\u0438\\\\u0447 \\\\u043f\\\\u0440\\\\u043e\\\\u0434\\\\u0443\\\\u043a\\\\u0442\\\\u0430</p><p>&nbsp;</p><p><strong>\\\\u041e\\\\u0431\\\\u044f\\\\u0437\\\\u0430\\\\u0442\\\\u0435\\\\u043b\\\\u044c\\\\u043d\\\\u044b\\\\u0435 \\\\u0442\\\\u0440\\\\u0435\\\\u0431\\\\u043e\\\\u0432\\\\u0430\\\\u043d\\\\u0438\\\\u044f</strong></p><p>- \\\\u0413\\\\u043b\\\\u0430\\\\u0432\\\\u043d\\\\u043e\\\\u0435 - \\\\u0433\\\\u043e\\\\u0442\\\\u043e\\\\u0432\\\\u043d\\\\u043e\\\\u0441\\\\u0442\\\\u044c \\\\u0431\\\\u0440\\\\u0430\\\\u0442\\\\u044c \\\\u043d\\\\u0430 \\\\u0441\\\\u0435\\\\u0431\\\\u044f \\\\u043e\\\\u0442\\\\u0432\\\\u0435\\\\u0442\\\\u0441\\\\u0442\\\\u0432\\\\u0435\\\\u043d\\\\u043d\\\\u043e\\\\u0441\\\\u0442\\\\u044c \\\\u0437\\\\u0430 \\\\u043f\\\\u0440\\\\u043e\\\\u0434\\\\u0443\\\\u043a\\\\u0442 \\\\u0438 \\\\u0437\\\\u0430\\\\u0434\\\\u0430\\\\u0447\\\\u0438, \\\\u043f\\\\u043e\\\\u043d\\\\u0438\\\\u043c\\\\u0430\\\\u043d\\\\u0438\\\\u0435 \\\\u0438 \\\\u0436\\\\u0435\\\\u043b\\\\u0430\\\\u043d\\\\u0438\\\\u0435 \\\\u0440\\\\u0430\\\\u0431\\\\u043e\\\\u0442\\\\u0430\\\\u0442\\\\u044c \\\\u0432 \\\\u0440\\\\u0435\\\\u0436\\\\u0438\\\\u043c\\\\u0435, \\\\u043e\\\\u0440\\\\u0438\\\\u0435\\\\u043d\\\\u0442\\\\u0438\\\\u0440\\\\u043e\\\\u0432\\\\u0430\\\\u043d\\\\u043d\\\\u043e\\\\u043c \\\\u043d\\\\u0430 \\\\u043f\\\\u043e\\\\u043b\\\\u0443\\\\u0447\\\\u0435\\\\u043d\\\\u0438\\\\u0435 \\\\u0431\\\\u0438\\\\u0437\\\\u043d\\\\u0435\\\\u0441-\\\\u0440\\\\u0435\\\\u0437\\\\u0443\\\\u043b\\\\u044c\\\\u0442\\\\u0430\\\\u0442\\\\u0430</p><p>- \\\\u041e\\\\u043f\\\\u044b\\\\u0442 \\\\u0440\\\\u0430\\\\u0431\\\\u043e\\\\u0442\\\\u044b \\\\u043f\\\\u043e \\\\u0441\\\\u043f\\\\u0435\\\\u0446\\\\u0438\\\\u0430\\\\u043b\\\\u044c\\\\u043d\\\\u043e\\\\u0441\\\\u0442\\\\u0438 \\\\u043e\\\\u0442 3 \\\\u043b\\\\u0435\\\\u0442</p><p>- \\\\u0412\\\\u044b\\\\u0441\\\\u0448\\\\u0435\\\\u0435 \\\\u0442\\\\u0435\\\\u0445\\\\u043d\\\\u0438\\\\u0447\\\\u0435\\\\u0441\\\\u043a\\\\u043e\\\\u0435 \\\\u043e\\\\u0431\\\\u0440\\\\u0430\\\\u0437\\\\u043e\\\\u0432\\\\u0430\\\\u043d\\\\u0438\\\\u0435</p><p>- \\\\u041f\\\\u043e\\\\u043d\\\\u0438\\\\u043c\\\\u0430\\\\u043d\\\\u0438\\\\u0435 \\\\u0446\\\\u0438\\\\u043a\\\\u043b\\\\u0430 \\\\u0440\\\\u0430\\\\u0437\\\\u0440\\\\u0430\\\\u0431\\\\u043e\\\\u0442\\\\u043a\\\\u0438 \\\\u041f\\\\u041e, \\\\u0437\\\\u043d\\\\u0430\\\\u043d\\\\u0438\\\\u0435 \\\\u0440\\\\u0430\\\\u0437\\\\u043b\\\\u0438\\\\u0447\\\\u043d\\\\u044b\\\\u0445 \\\\u043f\\\\u043e\\\\u0434\\\\u0445\\\\u043e\\\\u0434\\\\u043e\\\\u0432</p><p>- \\\\u041e\\\\u0440\\\\u0438\\\\u0435\\\\u043d\\\\u0442\\\\u0430\\\\u0446\\\\u0438\\\\u044f \\\\u043d\\\\u0430 \\\\u0440\\\\u0435\\\\u0437\\\\u0443\\\\u043b\\\\u044c\\\\u0442\\\\u0430\\\\u0442 \\\\u0438 \\\\u043f\\\\u0440\\\\u043e\\\\u0434\\\\u0443\\\\u043a\\\\u0442\\\\u043e\\\\u0432\\\\u044b\\\\u0439 \\\\u043f\\\\u043e\\\\u0434\\\\u0445\\\\u043e\\\\u0434 \\\\u043a \\\\u0440\\\\u0430\\\\u0437\\\\u0440\\\\u0430\\\\u0431\\\\u043e\\\\u0442\\\\u043a\\\\u0435</p><p>- \\\\u0412\\\\u043b\\\\u0430\\\\u0434\\\\u0435\\\\u043d\\\\u0438\\\\u0435 \\\\u043c\\\\u0435\\\\u0442\\\\u043e\\\\u0434\\\\u043e\\\\u043b\\\\u043e\\\\u0433\\\\u0438\\\\u044f\\\\u043c\\\\u0438 \\\\u0438 \\\\u0438\\\\u043d\\\\u0441\\\\u0442\\\\u0440\\\\u0443\\\\u043c\\\\u0435\\\\u043d\\\\u0442\\\\u0430\\\\u043c\\\\u0438 \\\\u0434\\\\u043e\\\\u043a\\\\u0443\\\\u043c\\\\u0435\\\\u043d\\\\u0442\\\\u0438\\\\u0440\\\\u043e\\\\u0432\\\\u0430\\\\u043d\\\\u0438\\\\u044f \\\\u043f\\\\u0440\\\\u043e\\\\u0433\\\\u0440\\\\u0430\\\\u043c\\\\u043c\\\\u043d\\\\u044b\\\\u0445 \\\\u043f\\\\u0440\\\\u043e\\\\u0434\\\\u0443\\\\u043a\\\\u0442\\\\u043e\\\\u0432 &ndash; Jira, Confluence</p><p>- \\\\u0425\\\\u043e\\\\u0440\\\\u043e\\\\u0448\\\\u0435\\\\u0435 \\\\u043f\\\\u043e\\\\u043d\\\\u0438\\\\u043c\\\\u0430\\\\u043d\\\\u0438\\\\u0435 \\\\u0442\\\\u0435\\\\u0445\\\\u043d\\\\u043e\\\\u043b\\\\u043e\\\\u0433\\\\u0438\\\\u0439 \\\\u0440\\\\u0430\\\\u0437\\\\u0440\\\\u0430\\\\u0431\\\\u043e\\\\u0442\\\\u043a\\\\u0438 \\\\u0432\\\\u0435\\\\u0431-\\\\u0441\\\\u0435\\\\u0440\\\\u0432\\\\u0438\\\\u0441\\\\u043e\\\\u0432 (BackEnd/FrontEnd, API, XML, Json)</p><p>- \\\\u0425\\\\u043e\\\\u0440\\\\u043e\\\\u0448\\\\u0435\\\\u0435 \\\\u043f\\\\u043e\\\\u043d\\\\u0438\\\\u043c\\\\u0430\\\\u043d\\\\u0438\\\\u0435 \\\\u0430\\\\u0440\\\\u0445\\\\u0438\\\\u0442\\\\u0435\\\\u043a\\\\u0442\\\\u0443\\\\u0440\\\\u043d\\\\u044b\\\\u0445 \\\\u043e\\\\u0441\\\\u043d\\\\u043e\\\\u0432 \\\\u0434\\\\u043b\\\\u044f \\\\u043e\\\\u043f\\\\u0438\\\\u0441\\\\u0430\\\\u043d\\\\u0438\\\\u044f \\\\u0438\\\\u043d\\\\u0442\\\\u0435\\\\u0433\\\\u0440\\\\u0430\\\\u0446\\\\u0438\\\\u043e\\\\u043d\\\\u043d\\\\u044b\\\\u0445 \\\\u043f\\\\u0440\\\\u043e\\\\u0446\\\\u0435\\\\u0441\\\\u0441\\\\u043e\\\\u0432 \\\\u043c\\\\u0435\\\\u0436\\\\u0434\\\\u0443 \\\\u0441\\\\u0438\\\\u0441\\\\u0442\\\\u0435\\\\u043c\\\\u0430\\\\u043c\\\\u0438 (XML Schema \\\\u0438 \\\\u043f\\\\u0440.)&nbsp;</p><p>- SQL \\\\u043d\\\\u0430 \\\\u0441\\\\u0440\\\\u0435\\\\u0434\\\\u043d\\\\u0435\\\\u043c \\\\u0443\\\\u0440\\\\u043e\\\\u0432\\\\u043d\\\\u0435 (\\\\u043d\\\\u0430\\\\u043f\\\\u0438\\\\u0441\\\\u0430\\\\u043d\\\\u0438\\\\u0435 \\\\u043d\\\\u0435\\\\u0441\\\\u043b\\\\u043e\\\\u0436\\\\u043d\\\\u044b\\\\u0445 \\\\u0437\\\\u0430\\\\u043f\\\\u0440\\\\u043e\\\\u0441\\\\u043e\\\\u0432 \\\\u0441 JOIN)</p><p>- \\\\u0412\\\\u043b\\\\u0430\\\\u0434\\\\u0435\\\\u043d\\\\u0438\\\\u0435 \\\\u0440\\\\u0430\\\\u0437\\\\u043b\\\\u0438\\\\u0447\\\\u043d\\\\u044b\\\\u043c\\\\u0438 \\\\u043d\\\\u043e\\\\u0442\\\\u0430\\\\u0446\\\\u0438\\\\u044f\\\\u043c\\\\u0438 - BPMN, UML, Use Case, EPC</p><p>- \\\\u0417\\\\u043d\\\\u0430\\\\u043d\\\\u0438\\\\u0435 \\\\u043c\\\\u0435\\\\u0442\\\\u043e\\\\u0434\\\\u043e\\\\u043b\\\\u043e\\\\u0433\\\\u0438\\\\u0439 Agile (Scrum, Kanban)</p><p><strong>Nice to have</strong>:</p><p>- \\\\u0417\\\\u043d\\\\u0430\\\\u043d\\\\u0438\\\\u0435 \\\\u043e\\\\u0441\\\\u043d\\\\u043e\\\\u0432 \\\\u043c\\\\u0430\\\\u0442\\\\u0435\\\\u043c\\\\u0430\\\\u0442\\\\u0438\\\\u0447\\\\u0435\\\\u0441\\\\u043a\\\\u043e\\\\u0439 \\\\u0441\\\\u0442\\\\u0430\\\\u0442\\\\u0438\\\\u0441\\\\u0442\\\\u0438\\\\u043a\\\\u0438 \\\\u0438 \\\\u0430\\\\u043d\\\\u0430\\\\u043b\\\\u0438\\\\u0437\\\\u0430 \\\\u0434\\\\u0430\\\\u043d\\\\u043d\\\\u044b\\\\u0445</p><p>- \\\\u0417\\\\u043d\\\\u0430\\\\u043d\\\\u0438\\\\u0435 \\\\u043e\\\\u0434\\\\u043d\\\\u043e\\\\u0433\\\\u043e \\\\u0438\\\\u0437 \\\\u044f\\\\u0437\\\\u044b\\\\u043a\\\\u043e\\\\u0432 \\\\u043f\\\\u0440\\\\u043e\\\\u0433\\\\u0440\\\\u0430\\\\u043c\\\\u043c\\\\u0438\\\\u0440\\\\u043e\\\\u0432\\\\u0430\\\\u043d\\\\u0438\\\\u044f Java, Scala, Python</p><p>&nbsp;</p><p><strong>\\\\u041e\\\\u0431\\\\u044f\\\\u0437\\\\u0430\\\\u043d\\\\u043d\\\\u043e\\\\u0441\\\\u0442\\\\u0438:</strong></p><p>- \\\\u0421\\\\u0431\\\\u043e\\\\u0440 \\\\u0431\\\\u0438\\\\u0437\\\\u043d\\\\u0435\\\\u0441-\\\\u0442\\\\u0440\\\\u0435\\\\u0431\\\\u043e\\\\u0432\\\\u0430\\\\u043d\\\\u0438\\\\u0439 &ndash; \\\\u043e\\\\u0431\\\\u0440\\\\u0430\\\\u0431\\\\u043e\\\\u0442\\\\u043a\\\\u0430, \\\\u0430\\\\u043d\\\\u0430\\\\u043b\\\\u0438\\\\u0437 \\\\u0438 \\\\u0441\\\\u0442\\\\u0440\\\\u0443\\\\u043a\\\\u0442\\\\u0443\\\\u0440\\\\u0438\\\\u0440\\\\u043e\\\\u0432\\\\u0430\\\\u043d\\\\u0438\\\\u0435 \\\\u0432\\\\u0445\\\\u043e\\\\u0434\\\\u044f\\\\u0449\\\\u0435\\\\u0439 \\\\u0438\\\\u043d\\\\u0444\\\\u043e\\\\u0440\\\\u043c\\\\u0430\\\\u0446\\\\u0438\\\\u0438</p><p>- \\\\u0421\\\\u0438\\\\u0441\\\\u0442\\\\u0435\\\\u043c\\\\u043d\\\\u044b\\\\u0439 \\\\u0430\\\\u043d\\\\u0430\\\\u043b\\\\u0438\\\\u0437, \\\\u043f\\\\u0440\\\\u043e\\\\u0440\\\\u0430\\\\u0431\\\\u043e\\\\u0442\\\\u043a\\\\u0430 \\\\u0438\\\\u043d\\\\u0442\\\\u0435\\\\u0433\\\\u0440\\\\u0430\\\\u0446\\\\u0438\\\\u043e\\\\u043d\\\\u043d\\\\u044b\\\\u0445 \\\\u043f\\\\u0440\\\\u043e\\\\u0446\\\\u0435\\\\u0441\\\\u0441\\\\u043e\\\\u0432, \\\\u043a\\\\u043e\\\\u043d\\\\u0442\\\\u0440\\\\u043e\\\\u043b\\\\u044c \\\\u043a\\\\u043e\\\\u0440\\\\u0440\\\\u0435\\\\u043a\\\\u0442\\\\u043d\\\\u043e\\\\u0439 \\\\u0440\\\\u0435\\\\u0430\\\\u043b\\\\u0438\\\\u0437\\\\u0430\\\\u0446\\\\u0438\\\\u0438 \\\\u043d\\\\u0430 \\\\u0432\\\\u0441\\\\u0435\\\\u0445 \\\\u044d\\\\u0442\\\\u0430\\\\u043f\\\\u0430\\\\u0445 \\\\u043f\\\\u0440\\\\u043e\\\\u0435\\\\u043a\\\\u0442\\\\u0430</p><p>- \\\\u041f\\\\u043e\\\\u043c\\\\u043e\\\\u0449\\\\u044c \\\\u0432 \\\\u0442\\\\u0435\\\\u0441\\\\u0442\\\\u0438\\\\u0440\\\\u043e\\\\u0432\\\\u0430\\\\u043d\\\\u0438\\\\u0438 \\\\u043d\\\\u0430 \\\\u044d\\\\u0442\\\\u0430\\\\u043f\\\\u0435 \\\\u043f\\\\u0440\\\\u0438\\\\u0435\\\\u043c\\\\u043a\\\\u0438 \\\\u043f\\\\u0440\\\\u043e\\\\u0434\\\\u0443\\\\u043a\\\\u0442\\\\u0430</p><p>- \\\\u041f\\\\u043e\\\\u043c\\\\u043e\\\\u0449\\\\u044c \\\\u043d\\\\u0430 \\\\u044d\\\\u0442\\\\u0430\\\\u043f\\\\u0435 UAT</p><p>- \\\\u0423\\\\u0447\\\\u0430\\\\u0441\\\\u0442\\\\u0438\\\\u0435 \\\\u0432 \\\\u0440\\\\u0430\\\\u0437\\\\u0431\\\\u043e\\\\u0440\\\\u0435 \\\\u043e\\\\u0448\\\\u0438\\\\u0431\\\\u043e\\\\u043a \\\\u0438 \\\\u0441\\\\u043b\\\\u043e\\\\u0436\\\\u043d\\\\u044b\\\\u0445 \\\\u0432\\\\u043e\\\\u043f\\\\u0440\\\\u043e\\\\u0441\\\\u043e\\\\u0432 \\\\u043f\\\\u043e\\\\u043b\\\\u044c\\\\u0437\\\\u043e\\\\u0432\\\\u0430\\\\u0442\\\\u0435\\\\u043b\\\\u0435\\\\u0439</p><p>- \\\\u0423\\\\u0447\\\\u0430\\\\u0441\\\\u0442\\\\u0438\\\\u0435 \\\\u0432\\\\u043e \\\\u0432\\\\u0441\\\\u0435\\\\u0445 \\\\u043a\\\\u043e\\\\u043c\\\\u0430\\\\u043d\\\\u0434\\\\u043d\\\\u044b\\\\u0445 \\\\u043c\\\\u0435\\\\u0440\\\\u043e\\\\u043f\\\\u0440\\\\u0438\\\\u044f\\\\u0442\\\\u0438\\\\u044f\\\\u0445 (\\\\u043f\\\\u043b\\\\u0430\\\\u043d\\\\u0438\\\\u0440\\\\u043e\\\\u0432\\\\u0430\\\\u043d\\\\u0438\\\\u0435, \\\\u0440\\\\u0435\\\\u0442\\\\u0440\\\\u043e\\\\u0441\\\\u043f\\\\u0435\\\\u043a\\\\u0442\\\\u0438\\\\u0432\\\\u0430, stand-up, \\\\u0434\\\\u0435\\\\u043c\\\\u043e)</p><p>&nbsp;</p><p><strong>\\\\u0411\\\\u043b\\\\u0438\\\\u0436\\\\u0430\\\\u0439\\\\u0448\\\\u0438\\\\u0435 \\\\u043f\\\\u043b\\\\u0430\\\\u043d\\\\u044b \\\\u0438 \\\\u0432\\\\u044b\\\\u0437\\\\u043e\\\\u0432\\\\u044b</strong>:</p><p>- \\\\u0420\\\\u0430\\\\u0431\\\\u043e\\\\u0442\\\\u0430 \\\\u043f\\\\u043e \\\\u0438\\\\u043d\\\\u0442\\\\u0435\\\\u0433\\\\u0440\\\\u0430\\\\u0446\\\\u0438\\\\u0438 \\\\u0441 JIRA (API)</p><p>- \\\\u0412\\\\u044b\\\\u043d\\\\u043e\\\\u0441 \\\\u0438 \\\\u0440\\\\u0435\\\\u0444\\\\u0430\\\\u043a\\\\u0442\\\\u043e\\\\u0440\\\\u0438\\\\u043d\\\\u0433 \\\\u043a\\\\u043e\\\\u0434\\\\u0430 \\\\u0438\\\\u0437 \\\\u043c\\\\u043e\\\\u043d\\\\u043e\\\\u043b\\\\u0438\\\\u0442\\\\u0430 \\\\u0432 \\\\u043c\\\\u0438\\\\u043a\\\\u0440\\\\u043e\\\\u0441\\\\u0435\\\\u0440\\\\u0432\\\\u0438\\\\u0441\\\\u044b</p><p>- \\\\u0422\\\\u0435\\\\u0441\\\\u043d\\\\u0430\\\\u044f \\\\u0438\\\\u043d\\\\u0442\\\\u0435\\\\u0433\\\\u0440\\\\u0430\\\\u0446\\\\u0438\\\\u044f \\\\u0438 \\\\u043f\\\\u0435\\\\u0440\\\\u0435\\\\u0438\\\\u0441\\\\u043f\\\\u043e\\\\u043b\\\\u044c\\\\u0437\\\\u043e\\\\u0432\\\\u0430\\\\u043d\\\\u0438\\\\u0435 \\\\u0441\\\\u0435\\\\u0440\\\\u0432\\\\u0438\\\\u0441\\\\u043e\\\\u0432 \\\\u044d\\\\u043a\\\\u043e\\\\u0441\\\\u0438\\\\u0441\\\\u0442\\\\u0435\\\\u043c\\\\u044b SDS</p>\", \"duties\": \"<p>\\\\u041c\\\\u044b &ndash; \\\\u0422\\\\u0440\\\\u0430\\\\u0439\\\\u0431 &laquo;\\\\u0423\\\\u043f\\\\u0440\\\\u0430\\\\u0432\\\\u043b\\\\u0435\\\\u043d\\\\u0438\\\\u0435 \\\\u043c\\\\u043e\\\\u0434\\\\u0435\\\\u043b\\\\u044c\\\\u043d\\\\u043e\\\\u0433\\\\u043e \\\\u0440\\\\u0438\\\\u0441\\\\u043a\\\\u0430&raquo;. \\\\u041c\\\\u044b \\\\u0440\\\\u0430\\\\u0437\\\\u0440\\\\u0430\\\\u0431\\\\u0430\\\\u0442\\\\u044b\\\\u0432\\\\u0430\\\\u0435\\\\u043c \\\\u043d\\\\u043e\\\\u0432\\\\u0443\\\\u044e \\\\u0438\\\\u043d\\\\u043d\\\\u043e\\\\u0432\\\\u0430\\\\u0446\\\\u0438\\\\u043e\\\\u043d\\\\u043d\\\\u0443\\\\u044e \\\\u041f\\\\u043b\\\\u0430\\\\u0442\\\\u0444\\\\u043e\\\\u0440\\\\u043c\\\\u0443 Sberbank.DS Ecosystem. \\\\u042d\\\\u0442\\\\u043e \\\\u043b\\\\u0438\\\\u043d\\\\u0435\\\\u0439\\\\u043a\\\\u0430 \\\\u043f\\\\u0440\\\\u043e\\\\u0434\\\\u0443\\\\u043a\\\\u0442\\\\u043e\\\\u0432, \\\\u0440\\\\u0435\\\\u0448\\\\u0430\\\\u044e\\\\u0449\\\\u0430\\\\u044f \\\\u0437\\\\u0430\\\\u0434\\\\u0430\\\\u0447\\\\u0438 \\\\u0421\\\\u0431\\\\u0435\\\\u0440\\\\u0431\\\\u0430\\\\u043d\\\\u043a\\\\u0430 \\\\u043f\\\\u043e \\\\u0443\\\\u0441\\\\u043a\\\\u043e\\\\u0440\\\\u0435\\\\u043d\\\\u043d\\\\u043e\\\\u0439 \\\\u0440\\\\u0430\\\\u0437\\\\u0440\\\\u0430\\\\u0431\\\\u043e\\\\u0442\\\\u043a\\\\u0435, \\\\u0432\\\\u0430\\\\u043b\\\\u0438\\\\u0434\\\\u0430\\\\u0446\\\\u0438\\\\u0438 \\\\u0438 \\\\u043c\\\\u043e\\\\u043d\\\\u0438\\\\u0442\\\\u043e\\\\u0440\\\\u0438\\\\u043d\\\\u0433\\\\u0443 AI \\\\u043c\\\\u043e\\\\u0434\\\\u0435\\\\u043b\\\\u0435\\\\u0439. \\\\u0421\\\\u0442\\\\u0440\\\\u0430\\\\u0442\\\\u0435\\\\u0433\\\\u0438\\\\u0447\\\\u0435\\\\u0441\\\\u043a\\\\u0438 \\\\u043f\\\\u043b\\\\u0430\\\\u043d\\\\u0438\\\\u0440\\\\u0443\\\\u0435\\\\u0442\\\\u0441\\\\u044f \\\\u043f\\\\u0440\\\\u043e\\\\u0434\\\\u0432\\\\u0438\\\\u0436\\\\u0435\\\\u043d\\\\u0438\\\\u0435 \\\\u041f\\\\u043b\\\\u0430\\\\u0442\\\\u0444\\\\u043e\\\\u0440\\\\u043c\\\\u044b (\\\\u043a\\\\u043e\\\\u0440\\\\u043e\\\\u0431\\\\u043e\\\\u0447\\\\u043d\\\\u044b\\\\u0439 \\\\u043f\\\\u0440\\\\u043e\\\\u0434\\\\u0443\\\\u043a\\\\u0442, \\\\u043e\\\\u0431\\\\u043b\\\\u0430\\\\u0447\\\\u043d\\\\u044b\\\\u0435 \\\\u0441\\\\u0435\\\\u0440\\\\u0432\\\\u0438\\\\u0441\\\\u044b) \\\\u043d\\\\u0430 \\\\u0440\\\\u043e\\\\u0441\\\\u0441\\\\u0438\\\\u0439\\\\u0441\\\\u043a\\\\u0438\\\\u0439 \\\\u0438 \\\\u043c\\\\u0435\\\\u0436\\\\u0434\\\\u0443\\\\u043d\\\\u0430\\\\u0440\\\\u043e\\\\u0434\\\\u043d\\\\u044b\\\\u0439 \\\\u0440\\\\u044b\\\\u043d\\\\u043e\\\\u043a.</p><p>&nbsp;</p><p>\\\\u0420\\\\u0430\\\\u0437\\\\u0432\\\\u0438\\\\u0442\\\\u0438\\\\u0435 \\\\u041f\\\\u043b\\\\u0430\\\\u0442\\\\u0444\\\\u043e\\\\u0440\\\\u043c\\\\u044b \\\\u0441\\\\u043e\\\\u043e\\\\u0442\\\\u0432\\\\u0435\\\\u0442\\\\u0441\\\\u0442\\\\u0432\\\\u0443\\\\u0435\\\\u0442 \\\\u043c\\\\u0438\\\\u0440\\\\u043e\\\\u0432\\\\u044b\\\\u043c \\\\u0442\\\\u0440\\\\u0435\\\\u043d\\\\u0434\\\\u0430\\\\u043c &laquo;\\\\u0434\\\\u0435\\\\u043c\\\\u043e\\\\u043a\\\\u0440\\\\u0430\\\\u0442\\\\u0438\\\\u0437\\\\u0430\\\\u0446\\\\u0438\\\\u0438 AI&raquo;, \\\\u043a\\\\u043e\\\\u0433\\\\u0434\\\\u0430 \\\\u0440\\\\u0430\\\\u0437\\\\u0440\\\\u0430\\\\u0431\\\\u043e\\\\u0442\\\\u043a\\\\u0430 \\\\u043c\\\\u043e\\\\u0434\\\\u0435\\\\u043b\\\\u0438 \\\\u043f\\\\u0440\\\\u0435\\\\u0432\\\\u0440\\\\u0430\\\\u0449\\\\u0430\\\\u0435\\\\u0442\\\\u0441\\\\u044f \\\\u0432 \\\\u0437\\\\u0430\\\\u0434\\\\u0430\\\\u0447\\\\u0443, \\\\u0434\\\\u043e\\\\u0441\\\\u0442\\\\u0443\\\\u043f\\\\u043d\\\\u0443\\\\u044e \\\\u043b\\\\u044e\\\\u0431\\\\u043e\\\\u043c\\\\u0443 \\\\u043f\\\\u043e\\\\u043b\\\\u044c\\\\u0437\\\\u043e\\\\u0432\\\\u0430\\\\u0442\\\\u0435\\\\u043b\\\\u044e \\\\u0447\\\\u0435\\\\u0440\\\\u0435\\\\u0437 \\\\u0441\\\\u0440\\\\u0435\\\\u0434\\\\u0441\\\\u0442\\\\u0432\\\\u0430 \\\\u0432\\\\u0438\\\\u0437\\\\u0443\\\\u0430\\\\u043b\\\\u044c\\\\u043d\\\\u043e\\\\u0433\\\\u043e \\\\u043f\\\\u0440\\\\u043e\\\\u0435\\\\u043a\\\\u0442\\\\u0438\\\\u0440\\\\u043e\\\\u0432\\\\u0430\\\\u043d\\\\u0438\\\\u044f \\\\u0438 \\\\u0438\\\\u0441\\\\u043f\\\\u043e\\\\u043b\\\\u044c\\\\u0437\\\\u043e\\\\u0432\\\\u0430\\\\u043d\\\\u0438\\\\u0435 \\\\u0431\\\\u0438\\\\u0431\\\\u043b\\\\u0438\\\\u043e\\\\u0442\\\\u0435\\\\u043a\\\\u0438 \\\\u0433\\\\u043e\\\\u0442\\\\u043e\\\\u0432\\\\u044b\\\\u0445 \\\\u043a\\\\u043e\\\\u043c\\\\u043f\\\\u043e\\\\u043d\\\\u0435\\\\u043d\\\\u0442\\\\u043e\\\\u0432. \\\\u041c\\\\u0438\\\\u0440\\\\u043e\\\\u0432\\\\u043e\\\\u0439 \\\\u0440\\\\u044b\\\\u043d\\\\u043e\\\\u043a \\\\u0441\\\\u0438\\\\u0441\\\\u0442\\\\u0435\\\\u043c \\\\u043f\\\\u043e\\\\u0434\\\\u043e\\\\u0431\\\\u043d\\\\u043e\\\\u0433\\\\u043e \\\\u043a\\\\u043b\\\\u0430\\\\u0441\\\\u0441\\\\u0430 \\\\u043e\\\\u0446\\\\u0435\\\\u043d\\\\u0438\\\\u0432\\\\u0430\\\\u0435\\\\u0442\\\\u0441\\\\u044f \\\\u0432 150+ \\\\u043c\\\\u043b\\\\u0440\\\\u0434. \\\\u0434\\\\u043e\\\\u043b\\\\u043b\\\\u0430\\\\u0440\\\\u043e\\\\u0432. \\\\u041d\\\\u0430\\\\u0448\\\\u0438 \\\\u043a\\\\u043e\\\\u043d\\\\u043a\\\\u0443\\\\u0440\\\\u0435\\\\u043d\\\\u0442\\\\u044b &ndash; Google, Microsoft, Amazon, SAS, IBM, Huawei.</p><p>&nbsp;</p><p>\\\\u0412\\\\u0430\\\\u0436\\\\u043d\\\\u043e\\\\u0439 \\\\u0447\\\\u0430\\\\u0441\\\\u0442\\\\u044c\\\\u044e \\\\u044d\\\\u043a\\\\u043e\\\\u0441\\\\u0438\\\\u0441\\\\u0442\\\\u0435\\\\u043c\\\\u044b Sberbank.DS \\\\u044f\\\\u0432\\\\u043b\\\\u044f\\\\u0435\\\\u0442\\\\u0441\\\\u044f \\\\u043f\\\\u0440\\\\u043e\\\\u0435\\\\u043a\\\\u0442 \\\\u0411\\\\u0438\\\\u0431\\\\u043b\\\\u0438\\\\u043e\\\\u0442\\\\u0435\\\\u043a\\\\u0430 \\\\u043c\\\\u043e\\\\u0434\\\\u0435\\\\u043b\\\\u0435\\\\u0439 (MMS).</p><p>\\\\u0426\\\\u0435\\\\u043b\\\\u0435\\\\u0432\\\\u0430\\\\u044f \\\\u0430\\\\u0443\\\\u0434\\\\u0438\\\\u0442\\\\u043e\\\\u0440\\\\u0438\\\\u044f \\\\u0441\\\\u0438\\\\u0441\\\\u0442\\\\u0435\\\\u043c\\\\u044b - \\\\u0432\\\\u0441\\\\u0435 \\\\u0431\\\\u043b\\\\u043e\\\\u043a\\\\u0438 \\\\u0431\\\\u0430\\\\u043d\\\\u043a\\\\u0430. \\\\u0412 \\\\u0431\\\\u0443\\\\u0434\\\\u0443\\\\u0449\\\\u0435\\\\u043c - \\\\u043f\\\\u0440\\\\u043e\\\\u0434\\\\u0432\\\\u0438\\\\u0436\\\\u0435\\\\u043d\\\\u0438\\\\u0435 \\\\u0432\\\\u043c\\\\u0435\\\\u0441\\\\u0442\\\\u0435 \\\\u0441\\\\u043e \\\\u0432\\\\u0441\\\\u0435\\\\u0439 \\\\u044d\\\\u043a\\\\u043e\\\\u0441\\\\u0438\\\\u0441\\\\u0442\\\\u0435\\\\u043c\\\\u043e\\\\u0439.</p><p>\\\\u041f\\\\u0440\\\\u043e\\\\u0434\\\\u0443\\\\u043a\\\\u0442 \\\\u0443\\\\u043f\\\\u0440\\\\u0430\\\\u0432\\\\u043b\\\\u044f\\\\u0435\\\\u0442 \\\\u0436\\\\u0438\\\\u0437\\\\u043d\\\\u0435\\\\u043d\\\\u043d\\\\u044b\\\\u043c \\\\u0446\\\\u0438\\\\u043a\\\\u043b\\\\u043e\\\\u043c \\\\u043c\\\\u043e\\\\u0434\\\\u0435\\\\u043b\\\\u0435\\\\u0439 - \\\\u043e\\\\u0442 \\\\u0437\\\\u0430\\\\u044f\\\\u0432\\\\u043a\\\\u0438 \\\\u043d\\\\u0430 \\\\u0440\\\\u0430\\\\u0437\\\\u0440\\\\u0430\\\\u0431\\\\u043e\\\\u0442\\\\u043a\\\\u0443 \\\\u0434\\\\u043e \\\\u0432\\\\u044b\\\\u0432\\\\u043e\\\\u0434\\\\u0430 \\\\u0432 \\\\u043f\\\\u0440\\\\u043e\\\\u043c \\\\u0438 \\\\u0441\\\\u0431\\\\u043e\\\\u0440 \\\\u043c\\\\u0435\\\\u0442\\\\u0440\\\\u0438\\\\u043a \\\\u0432 \\\\u043f\\\\u0440\\\\u043e\\\\u0446\\\\u0435\\\\u0441\\\\u0441\\\\u0435 \\\\u044d\\\\u043a\\\\u0441\\\\u043f\\\\u043b\\\\u0443\\\\u0430\\\\u0442\\\\u0430\\\\u0446\\\\u0438\\\\u0438</p><p>\\\\u0412 \\\\u0440\\\\u0430\\\\u043c\\\\u043a\\\\u0430\\\\u0445 \\\\u043f\\\\u0440\\\\u043e\\\\u0434\\\\u0443\\\\u043a\\\\u0442\\\\u0430 \\\\u043c\\\\u044b \\\\u0440\\\\u0435\\\\u0448\\\\u0430\\\\u0435\\\\u043c \\\\u0437\\\\u0430\\\\u0434\\\\u0430\\\\u0447\\\\u0438 (\\\\u043e\\\\u0441\\\\u043d\\\\u043e\\\\u0432\\\\u043d\\\\u044b\\\\u0435, \\\\u0441\\\\u043f\\\\u0438\\\\u0441\\\\u043e\\\\u043a \\\\u043d\\\\u0435 \\\\u0438\\\\u0441\\\\u0447\\\\u0435\\\\u0440\\\\u043f\\\\u044b\\\\u0432\\\\u0430\\\\u044e\\\\u0449\\\\u0438\\\\u0439):</p><p>- \\\\u0420\\\\u0430\\\\u0431\\\\u043e\\\\u0442\\\\u0430 \\\\u043f\\\\u043e\\\\u043b\\\\u044c\\\\u0437\\\\u043e\\\\u0432\\\\u0430\\\\u0442\\\\u0435\\\\u043b\\\\u0435\\\\u0439 \\\\u0441 \\\\u043c\\\\u043e\\\\u0434\\\\u0435\\\\u043b\\\\u044c\\\\u044e \\\\u0432 \\\\u0440\\\\u0430\\\\u043c\\\\u043a\\\\u0430\\\\u0445 workflow (\\\\u0437\\\\u0430\\\\u043a\\\\u0430\\\\u0437\\\\u0447\\\\u0438\\\\u043a\\\\u0438, \\\\u0440\\\\u0430\\\\u0437\\\\u0440\\\\u0430\\\\u0431\\\\u043e\\\\u0442\\\\u0447\\\\u0438\\\\u043a\\\\u0438, \\\\u0432\\\\u0430\\\\u043b\\\\u0438\\\\u0434\\\\u0430\\\\u0442\\\\u043e\\\\u0440\\\\u044b, \\\\u0434\\\\u0435\\\\u0432\\\\u043e\\\\u043f\\\\u0441\\\\u044b, ...)</p><p>- \\\\u0418\\\\u043d\\\\u0442\\\\u0435\\\\u0433\\\\u0440\\\\u0430\\\\u0446\\\\u0438\\\\u044f \\\\u0441 \\\\u043c\\\\u043e\\\\u0434\\\\u0443\\\\u043b\\\\u044f\\\\u043c\\\\u0438 \\\\u044d\\\\u043a\\\\u043e\\\\u0441\\\\u0438\\\\u0441\\\\u0442\\\\u0435\\\\u043c\\\\u044b</p><p>- \\\\u0418\\\\u043d\\\\u0442\\\\u0435\\\\u0433\\\\u0440\\\\u0430\\\\u0446\\\\u0438\\\\u044f \\\\u0441 \\\\u0441\\\\u0438\\\\u0441\\\\u0442\\\\u0435\\\\u043c\\\\u0430\\\\u043c\\\\u0438 \\\\u0438\\\\u0441\\\\u043f\\\\u043e\\\\u043b\\\\u043d\\\\u0435\\\\u043d\\\\u0438\\\\u044f \\\\u043c\\\\u043e\\\\u0434\\\\u0435\\\\u043b\\\\u0435\\\\u0439</p><p>- \\\\u0418\\\\u043d\\\\u0442\\\\u0435\\\\u0433\\\\u0440\\\\u0430\\\\u0446\\\\u0438\\\\u044f \\\\u0441 \\\\u0441\\\\u0438\\\\u0441\\\\u0442\\\\u0435\\\\u043c\\\\u0430\\\\u043c\\\\u0438 \\\\u043a\\\\u043e\\\\u043d\\\\u0442\\\\u0440\\\\u043e\\\\u043b\\\\u044f \\\\u0432\\\\u0435\\\\u0440\\\\u0441\\\\u0438\\\\u0439</p><p>- \\\\u0418\\\\u043d\\\\u0442\\\\u0435\\\\u0433\\\\u0440\\\\u0430\\\\u0446\\\\u0438\\\\u044f \\\\u0441 \\\\u0431\\\\u0430\\\\u0437\\\\u043e\\\\u0432\\\\u044b\\\\u043c\\\\u0438 \\\\u0441\\\\u0438\\\\u0441\\\\u0442\\\\u0435\\\\u043c\\\\u0430\\\\u043c\\\\u0438 \\\\u0431\\\\u0430\\\\u043d\\\\u043a\\\\u0430</p><p>&nbsp;</p><p>\\\\u0412 \\\\u0441\\\\u0432\\\\u044f\\\\u0437\\\\u0438 \\\\u0441 \\\\u0440\\\\u043e\\\\u0441\\\\u0442\\\\u043e\\\\u043c \\\\u043f\\\\u0440\\\\u043e\\\\u0434\\\\u0443\\\\u043a\\\\u0442\\\\u0430, \\\\u043a\\\\u043e\\\\u043c\\\\u0430\\\\u043d\\\\u0434\\\\u044b \\\\u0438 \\\\u043a\\\\u043e\\\\u043b\\\\u0438\\\\u0447\\\\u0435\\\\u0441\\\\u0442\\\\u0432\\\\u0430 \\\\u0437\\\\u0430\\\\u0434\\\\u0430\\\\u0447 \\\\u043c\\\\u044b \\\\u0438\\\\u0449\\\\u0435\\\\u043c \\\\u043e\\\\u043f\\\\u044b\\\\u0442\\\\u043d\\\\u043e\\\\u0433\\\\u043e \\\\u0430\\\\u043d\\\\u0430\\\\u043b\\\\u0438\\\\u0442\\\\u0438\\\\u043a\\\\u0430 \\\\u0434\\\\u043b\\\\u044f \\\\u0443\\\\u0447\\\\u0430\\\\u0441\\\\u0442\\\\u0438\\\\u044f \\\\u0432 \\\\u0440\\\\u0430\\\\u0437\\\\u0432\\\\u0438\\\\u0442\\\\u0438\\\\u0438 \\\\u0411\\\\u0438\\\\u0431\\\\u043b\\\\u0438\\\\u043e\\\\u0442\\\\u0435\\\\u043a\\\\u0438 \\\\u043c\\\\u043e\\\\u0434\\\\u0435\\\\u043b\\\\u0435\\\\u0439.</p><p>\\\\u0412\\\\u0430\\\\u043c \\\\u043f\\\\u0440\\\\u0435\\\\u0434\\\\u0441\\\\u0442\\\\u043e\\\\u0438\\\\u0442 \\\\u0440\\\\u0430\\\\u0437\\\\u0440\\\\u0430\\\\u0431\\\\u0430\\\\u0442\\\\u044b\\\\u0432\\\\u0430\\\\u0442\\\\u044c \\\\u043d\\\\u043e\\\\u0432\\\\u044b\\\\u0439 \\\\u0438 \\\\u043f\\\\u043e\\\\u0434\\\\u0434\\\\u0435\\\\u0440\\\\u0436\\\\u0438\\\\u0432\\\\u0430\\\\u0442\\\\u044c \\\\u0441\\\\u0443\\\\u0449\\\\u0435\\\\u0441\\\\u0442\\\\u0432\\\\u0443\\\\u044e\\\\u0449\\\\u0438\\\\u0439 \\\\u0444\\\\u0443\\\\u043d\\\\u043a\\\\u0446\\\\u0438\\\\u043e\\\\u043d\\\\u0430\\\\u043b \\\\u0441\\\\u0438\\\\u0441\\\\u0442\\\\u0435\\\\u043c\\\\u044b.</p><p>&nbsp;</p><p><strong>\\\\u041e \\\\u043d\\\\u0430\\\\u0441</strong></p><p>- \\\\u041d\\\\u0430\\\\u0441 17 \\\\u0447\\\\u0435\\\\u043b\\\\u043e\\\\u0432\\\\u0435\\\\u043a: \\\\u0434\\\\u0432\\\\u0435 \\\\u043a\\\\u043e\\\\u043c\\\\u0430\\\\u043d\\\\u0434\\\\u044b, Scala \\\\u0438 Java, \\\\u0440\\\\u0430\\\\u0431\\\\u043e\\\\u0442\\\\u0430\\\\u044e\\\\u0449\\\\u0438\\\\u0435 \\\\u043d\\\\u0430\\\\u0434 \\\\u043e\\\\u0434\\\\u043d\\\\u0438\\\\u043c \\\\u043f\\\\u0440\\\\u043e\\\\u0434\\\\u0443\\\\u043a\\\\u0442\\\\u043e\\\\u043c</p><p>- \\\\u0410\\\\u043d\\\\u0430\\\\u043b\\\\u0438\\\\u0442\\\\u0438\\\\u043a\\\\u0430, \\\\u0430\\\\u0440\\\\u0445\\\\u0438\\\\u0442\\\\u0435\\\\u043a\\\\u0442\\\\u0443\\\\u0440\\\\u0430, \\\\u0442\\\\u0435\\\\u0441\\\\u0442\\\\u0438\\\\u0440\\\\u043e\\\\u0432\\\\u0430\\\\u043d\\\\u0438\\\\u0435, UX \\\\u0438 \\\\u0444\\\\u0440\\\\u043e\\\\u043d\\\\u0442\\\\u044d\\\\u043d\\\\u0434 - \\\\u043e\\\\u0431\\\\u0449\\\\u0438\\\\u0435</p><p>- \\\\u0412\\\\u043c\\\\u0435\\\\u0441\\\\u0442\\\\u0435 \\\\u0441 \\\\u0432\\\\u0430\\\\u043c\\\\u0438 \\\\u0432 \\\\u043a\\\\u043e\\\\u043c\\\\u0430\\\\u043d\\\\u0434\\\\u0435 \\\\u0431\\\\u0443\\\\u0434\\\\u0435\\\\u0442 3 \\\\u0430\\\\u043d\\\\u0430\\\\u043b\\\\u0438\\\\u0442\\\\u0438\\\\u043a\\\\u0430</p><p>- \\\\u0420\\\\u0430\\\\u0431\\\\u043e\\\\u0442\\\\u0430\\\\u0435\\\\u043c \\\\u043f\\\\u043e \\\\u041a\\\\u0430\\\\u043d\\\\u0431\\\\u0430\\\\u043d, \\\\u043d\\\\u043e \\\\u0441\\\\u043e \\\\u0432\\\\u0441\\\\u0435\\\\u043c\\\\u0438 \\\\u043c\\\\u0435\\\\u0440\\\\u043e\\\\u043f\\\\u0440\\\\u0438\\\\u044f\\\\u0442\\\\u0438\\\\u044f\\\\u043c\\\\u0438 Agile</p><p>- \\\\u041f\\\\u0440\\\\u043e\\\\u0434\\\\u0443\\\\u043a\\\\u0442 \\\\u0430\\\\u043a\\\\u0442\\\\u0438\\\\u0432\\\\u043d\\\\u043e \\\\u0440\\\\u0430\\\\u0437\\\\u0432\\\\u0438\\\\u0432\\\\u0430\\\\u0435\\\\u0442\\\\u0441\\\\u044f \\\\u0438 \\\\u0440\\\\u0430\\\\u0441\\\\u0442\\\\u0435\\\\u0442, \\\\u0432\\\\u044b \\\\u043c\\\\u043e\\\\u0436\\\\u0435\\\\u0442\\\\u0435 \\\\u043f\\\\u043e\\\\u0443\\\\u0447\\\\u0430\\\\u0441\\\\u0442\\\\u0432\\\\u043e\\\\u0432\\\\u0430\\\\u0442\\\\u044c \\\\u0432 \\\\u0441\\\\u0442\\\\u0430\\\\u043d\\\\u043e\\\\u0432\\\\u043b\\\\u0435\\\\u043d\\\\u0438\\\\u0438 \\\\u043f\\\\u0440\\\\u043e\\\\u0434\\\\u0443\\\\u043a\\\\u0442\\\\u0430 \\\\u0438 \\\\u043f\\\\u043e\\\\u043c\\\\u043e\\\\u0447\\\\u044c \\\\u0441\\\\u0434\\\\u0435\\\\u043b\\\\u0430\\\\u0442\\\\u044c \\\\u0435\\\\u0433\\\\u043e \\\\u043f\\\\u043e-\\\\u043d\\\\u0430\\\\u0441\\\\u0442\\\\u043e\\\\u044f\\\\u0449\\\\u0435\\\\u043c\\\\u0443 \\\\u0437\\\\u0440\\\\u0435\\\\u043b\\\\u044b\\\\u043c</p><p>- \\\\u0412\\\\u0430\\\\u043c \\\\u043f\\\\u0440\\\\u0435\\\\u0434\\\\u0441\\\\u0442\\\\u043e\\\\u0438\\\\u0442 \\\\u0432\\\\u043b\\\\u0438\\\\u0442\\\\u044c\\\\u0441\\\\u044f \\\\u0432 \\\\u043a\\\\u043e\\\\u043c\\\\u0430\\\\u043d\\\\u0434\\\\u0443 \\\\u0438 \\\\u0443\\\\u0447\\\\u0430\\\\u0441\\\\u0442\\\\u0432\\\\u043e\\\\u0432\\\\u0430\\\\u0442\\\\u044c \\\\u0432\\\\u043e \\\\u0432\\\\u043d\\\\u0435\\\\u0434\\\\u0440\\\\u0435\\\\u043d\\\\u0438\\\\u0438 \\\\u043d\\\\u043e\\\\u0432\\\\u044b\\\\u0445 \\\\u0444\\\\u0438\\\\u0447 \\\\u043f\\\\u0440\\\\u043e\\\\u0434\\\\u0443\\\\u043a\\\\u0442\\\\u0430</p><p>&nbsp;</p><p><strong>\\\\u041e\\\\u0431\\\\u044f\\\\u0437\\\\u0430\\\\u0442\\\\u0435\\\\u043b\\\\u044c\\\\u043d\\\\u044b\\\\u0435 \\\\u0442\\\\u0440\\\\u0435\\\\u0431\\\\u043e\\\\u0432\\\\u0430\\\\u043d\\\\u0438\\\\u044f</strong></p><p>- \\\\u0413\\\\u043b\\\\u0430\\\\u0432\\\\u043d\\\\u043e\\\\u0435 - \\\\u0433\\\\u043e\\\\u0442\\\\u043e\\\\u0432\\\\u043d\\\\u043e\\\\u0441\\\\u0442\\\\u044c \\\\u0431\\\\u0440\\\\u0430\\\\u0442\\\\u044c \\\\u043d\\\\u0430 \\\\u0441\\\\u0435\\\\u0431\\\\u044f \\\\u043e\\\\u0442\\\\u0432\\\\u0435\\\\u0442\\\\u0441\\\\u0442\\\\u0432\\\\u0435\\\\u043d\\\\u043d\\\\u043e\\\\u0441\\\\u0442\\\\u044c \\\\u0437\\\\u0430 \\\\u043f\\\\u0440\\\\u043e\\\\u0434\\\\u0443\\\\u043a\\\\u0442 \\\\u0438 \\\\u0437\\\\u0430\\\\u0434\\\\u0430\\\\u0447\\\\u0438, \\\\u043f\\\\u043e\\\\u043d\\\\u0438\\\\u043c\\\\u0430\\\\u043d\\\\u0438\\\\u0435 \\\\u0438 \\\\u0436\\\\u0435\\\\u043b\\\\u0430\\\\u043d\\\\u0438\\\\u0435 \\\\u0440\\\\u0430\\\\u0431\\\\u043e\\\\u0442\\\\u0430\\\\u0442\\\\u044c \\\\u0432 \\\\u0440\\\\u0435\\\\u0436\\\\u0438\\\\u043c\\\\u0435, \\\\u043e\\\\u0440\\\\u0438\\\\u0435\\\\u043d\\\\u0442\\\\u0438\\\\u0440\\\\u043e\\\\u0432\\\\u0430\\\\u043d\\\\u043d\\\\u043e\\\\u043c \\\\u043d\\\\u0430 \\\\u043f\\\\u043e\\\\u043b\\\\u0443\\\\u0447\\\\u0435\\\\u043d\\\\u0438\\\\u0435 \\\\u0431\\\\u0438\\\\u0437\\\\u043d\\\\u0435\\\\u0441-\\\\u0440\\\\u0435\\\\u0437\\\\u0443\\\\u043b\\\\u044c\\\\u0442\\\\u0430\\\\u0442\\\\u0430</p><p>- \\\\u041e\\\\u043f\\\\u044b\\\\u0442 \\\\u0440\\\\u0430\\\\u0431\\\\u043e\\\\u0442\\\\u044b \\\\u043f\\\\u043e \\\\u0441\\\\u043f\\\\u0435\\\\u0446\\\\u0438\\\\u0430\\\\u043b\\\\u044c\\\\u043d\\\\u043e\\\\u0441\\\\u0442\\\\u0438 \\\\u043e\\\\u0442 3 \\\\u043b\\\\u0435\\\\u0442</p><p>- \\\\u0412\\\\u044b\\\\u0441\\\\u0448\\\\u0435\\\\u0435 \\\\u0442\\\\u0435\\\\u0445\\\\u043d\\\\u0438\\\\u0447\\\\u0435\\\\u0441\\\\u043a\\\\u043e\\\\u0435 \\\\u043e\\\\u0431\\\\u0440\\\\u0430\\\\u0437\\\\u043e\\\\u0432\\\\u0430\\\\u043d\\\\u0438\\\\u0435</p><p>- \\\\u041f\\\\u043e\\\\u043d\\\\u0438\\\\u043c\\\\u0430\\\\u043d\\\\u0438\\\\u0435 \\\\u0446\\\\u0438\\\\u043a\\\\u043b\\\\u0430 \\\\u0440\\\\u0430\\\\u0437\\\\u0440\\\\u0430\\\\u0431\\\\u043e\\\\u0442\\\\u043a\\\\u0438 \\\\u041f\\\\u041e, \\\\u0437\\\\u043d\\\\u0430\\\\u043d\\\\u0438\\\\u0435 \\\\u0440\\\\u0430\\\\u0437\\\\u043b\\\\u0438\\\\u0447\\\\u043d\\\\u044b\\\\u0445 \\\\u043f\\\\u043e\\\\u0434\\\\u0445\\\\u043e\\\\u0434\\\\u043e\\\\u0432</p><p>- \\\\u041e\\\\u0440\\\\u0438\\\\u0435\\\\u043d\\\\u0442\\\\u0430\\\\u0446\\\\u0438\\\\u044f \\\\u043d\\\\u0430 \\\\u0440\\\\u0435\\\\u0437\\\\u0443\\\\u043b\\\\u044c\\\\u0442\\\\u0430\\\\u0442 \\\\u0438 \\\\u043f\\\\u0440\\\\u043e\\\\u0434\\\\u0443\\\\u043a\\\\u0442\\\\u043e\\\\u0432\\\\u044b\\\\u0439 \\\\u043f\\\\u043e\\\\u0434\\\\u0445\\\\u043e\\\\u0434 \\\\u043a \\\\u0440\\\\u0430\\\\u0437\\\\u0440\\\\u0430\\\\u0431\\\\u043e\\\\u0442\\\\u043a\\\\u0435</p><p>- \\\\u0412\\\\u043b\\\\u0430\\\\u0434\\\\u0435\\\\u043d\\\\u0438\\\\u0435 \\\\u043c\\\\u0435\\\\u0442\\\\u043e\\\\u0434\\\\u043e\\\\u043b\\\\u043e\\\\u0433\\\\u0438\\\\u044f\\\\u043c\\\\u0438 \\\\u0438 \\\\u0438\\\\u043d\\\\u0441\\\\u0442\\\\u0440\\\\u0443\\\\u043c\\\\u0435\\\\u043d\\\\u0442\\\\u0430\\\\u043c\\\\u0438 \\\\u0434\\\\u043e\\\\u043a\\\\u0443\\\\u043c\\\\u0435\\\\u043d\\\\u0442\\\\u0438\\\\u0440\\\\u043e\\\\u0432\\\\u0430\\\\u043d\\\\u0438\\\\u044f \\\\u043f\\\\u0440\\\\u043e\\\\u0433\\\\u0440\\\\u0430\\\\u043c\\\\u043c\\\\u043d\\\\u044b\\\\u0445 \\\\u043f\\\\u0440\\\\u043e\\\\u0434\\\\u0443\\\\u043a\\\\u0442\\\\u043e\\\\u0432 &ndash; Jira, Confluence</p><p>- \\\\u0425\\\\u043e\\\\u0440\\\\u043e\\\\u0448\\\\u0435\\\\u0435 \\\\u043f\\\\u043e\\\\u043d\\\\u0438\\\\u043c\\\\u0430\\\\u043d\\\\u0438\\\\u0435 \\\\u0442\\\\u0435\\\\u0445\\\\u043d\\\\u043e\\\\u043b\\\\u043e\\\\u0433\\\\u0438\\\\u0439 \\\\u0440\\\\u0430\\\\u0437\\\\u0440\\\\u0430\\\\u0431\\\\u043e\\\\u0442\\\\u043a\\\\u0438 \\\\u0432\\\\u0435\\\\u0431-\\\\u0441\\\\u0435\\\\u0440\\\\u0432\\\\u0438\\\\u0441\\\\u043e\\\\u0432 (BackEnd/FrontEnd, API, XML, Json)</p><p>- \\\\u0425\\\\u043e\\\\u0440\\\\u043e\\\\u0448\\\\u0435\\\\u0435 \\\\u043f\\\\u043e\\\\u043d\\\\u0438\\\\u043c\\\\u0430\\\\u043d\\\\u0438\\\\u0435 \\\\u0430\\\\u0440\\\\u0445\\\\u0438\\\\u0442\\\\u0435\\\\u043a\\\\u0442\\\\u0443\\\\u0440\\\\u043d\\\\u044b\\\\u0445 \\\\u043e\\\\u0441\\\\u043d\\\\u043e\\\\u0432 \\\\u0434\\\\u043b\\\\u044f \\\\u043e\\\\u043f\\\\u0438\\\\u0441\\\\u0430\\\\u043d\\\\u0438\\\\u044f \\\\u0438\\\\u043d\\\\u0442\\\\u0435\\\\u0433\\\\u0440\\\\u0430\\\\u0446\\\\u0438\\\\u043e\\\\u043d\\\\u043d\\\\u044b\\\\u0445 \\\\u043f\\\\u0440\\\\u043e\\\\u0446\\\\u0435\\\\u0441\\\\u0441\\\\u043e\\\\u0432 \\\\u043c\\\\u0435\\\\u0436\\\\u0434\\\\u0443 \\\\u0441\\\\u0438\\\\u0441\\\\u0442\\\\u0435\\\\u043c\\\\u0430\\\\u043c\\\\u0438 (XML Schema \\\\u0438 \\\\u043f\\\\u0440.)&nbsp;</p><p>- SQL \\\\u043d\\\\u0430 \\\\u0441\\\\u0440\\\\u0435\\\\u0434\\\\u043d\\\\u0435\\\\u043c \\\\u0443\\\\u0440\\\\u043e\\\\u0432\\\\u043d\\\\u0435 (\\\\u043d\\\\u0430\\\\u043f\\\\u0438\\\\u0441\\\\u0430\\\\u043d\\\\u0438\\\\u0435 \\\\u043d\\\\u0435\\\\u0441\\\\u043b\\\\u043e\\\\u0436\\\\u043d\\\\u044b\\\\u0445 \\\\u0437\\\\u0430\\\\u043f\\\\u0440\\\\u043e\\\\u0441\\\\u043e\\\\u0432 \\\\u0441 JOIN)</p><p>- \\\\u0412\\\\u043b\\\\u0430\\\\u0434\\\\u0435\\\\u043d\\\\u0438\\\\u0435 \\\\u0440\\\\u0430\\\\u0437\\\\u043b\\\\u0438\\\\u0447\\\\u043d\\\\u044b\\\\u043c\\\\u0438 \\\\u043d\\\\u043e\\\\u0442\\\\u0430\\\\u0446\\\\u0438\\\\u044f\\\\u043c\\\\u0438 - BPMN, UML, Use Case, EPC</p><p>- \\\\u0417\\\\u043d\\\\u0430\\\\u043d\\\\u0438\\\\u0435 \\\\u043c\\\\u0435\\\\u0442\\\\u043e\\\\u0434\\\\u043e\\\\u043b\\\\u043e\\\\u0433\\\\u0438\\\\u0439 Agile (Scrum, Kanban)</p><p><strong>Nice to have</strong>:</p><p>- \\\\u0417\\\\u043d\\\\u0430\\\\u043d\\\\u0438\\\\u0435 \\\\u043e\\\\u0441\\\\u043d\\\\u043e\\\\u0432 \\\\u043c\\\\u0430\\\\u0442\\\\u0435\\\\u043c\\\\u0430\\\\u0442\\\\u0438\\\\u0447\\\\u0435\\\\u0441\\\\u043a\\\\u043e\\\\u0439 \\\\u0441\\\\u0442\\\\u0430\\\\u0442\\\\u0438\\\\u0441\\\\u0442\\\\u0438\\\\u043a\\\\u0438 \\\\u0438 \\\\u0430\\\\u043d\\\\u0430\\\\u043b\\\\u0438\\\\u0437\\\\u0430 \\\\u0434\\\\u0430\\\\u043d\\\\u043d\\\\u044b\\\\u0445</p><p>- \\\\u0417\\\\u043d\\\\u0430\\\\u043d\\\\u0438\\\\u0435 \\\\u043e\\\\u0434\\\\u043d\\\\u043e\\\\u0433\\\\u043e \\\\u0438\\\\u0437 \\\\u044f\\\\u0437\\\\u044b\\\\u043a\\\\u043e\\\\u0432 \\\\u043f\\\\u0440\\\\u043e\\\\u0433\\\\u0440\\\\u0430\\\\u043c\\\\u043c\\\\u0438\\\\u0440\\\\u043e\\\\u0432\\\\u0430\\\\u043d\\\\u0438\\\\u044f Java, Scala, Python</p><p>&nbsp;</p><p><strong></strong></p><p>- \\\\u0421\\\\u0431\\\\u043e\\\\u0440 \\\\u0431\\\\u0438\\\\u0437\\\\u043d\\\\u0435\\\\u0441-\\\\u0442\\\\u0440\\\\u0435\\\\u0431\\\\u043e\\\\u0432\\\\u0430\\\\u043d\\\\u0438\\\\u0439 &ndash; \\\\u043e\\\\u0431\\\\u0440\\\\u0430\\\\u0431\\\\u043e\\\\u0442\\\\u043a\\\\u0430, \\\\u0430\\\\u043d\\\\u0430\\\\u043b\\\\u0438\\\\u0437 \\\\u0438 \\\\u0441\\\\u0442\\\\u0440\\\\u0443\\\\u043a\\\\u0442\\\\u0443\\\\u0440\\\\u0438\\\\u0440\\\\u043e\\\\u0432\\\\u0430\\\\u043d\\\\u0438\\\\u0435 \\\\u0432\\\\u0445\\\\u043e\\\\u0434\\\\u044f\\\\u0449\\\\u0435\\\\u0439 \\\\u0438\\\\u043d\\\\u0444\\\\u043e\\\\u0440\\\\u043c\\\\u0430\\\\u0446\\\\u0438\\\\u0438</p><p>- \\\\u0421\\\\u0438\\\\u0441\\\\u0442\\\\u0435\\\\u043c\\\\u043d\\\\u044b\\\\u0439 \\\\u0430\\\\u043d\\\\u0430\\\\u043b\\\\u0438\\\\u0437, \\\\u043f\\\\u0440\\\\u043e\\\\u0440\\\\u0430\\\\u0431\\\\u043e\\\\u0442\\\\u043a\\\\u0430 \\\\u0438\\\\u043d\\\\u0442\\\\u0435\\\\u0433\\\\u0440\\\\u0430\\\\u0446\\\\u0438\\\\u043e\\\\u043d\\\\u043d\\\\u044b\\\\u0445 \\\\u043f\\\\u0440\\\\u043e\\\\u0446\\\\u0435\\\\u0441\\\\u0441\\\\u043e\\\\u0432, \\\\u043a\\\\u043e\\\\u043d\\\\u0442\\\\u0440\\\\u043e\\\\u043b\\\\u044c \\\\u043a\\\\u043e\\\\u0440\\\\u0440\\\\u0435\\\\u043a\\\\u0442\\\\u043d\\\\u043e\\\\u0439 \\\\u0440\\\\u0435\\\\u0430\\\\u043b\\\\u0438\\\\u0437\\\\u0430\\\\u0446\\\\u0438\\\\u0438 \\\\u043d\\\\u0430 \\\\u0432\\\\u0441\\\\u0435\\\\u0445 \\\\u044d\\\\u0442\\\\u0430\\\\u043f\\\\u0430\\\\u0445 \\\\u043f\\\\u0440\\\\u043e\\\\u0435\\\\u043a\\\\u0442\\\\u0430</p><p>- \\\\u041f\\\\u043e\\\\u043c\\\\u043e\\\\u0449\\\\u044c \\\\u0432 \\\\u0442\\\\u0435\\\\u0441\\\\u0442\\\\u0438\\\\u0440\\\\u043e\\\\u0432\\\\u0430\\\\u043d\\\\u0438\\\\u0438 \\\\u043d\\\\u0430 \\\\u044d\\\\u0442\\\\u0430\\\\u043f\\\\u0435 \\\\u043f\\\\u0440\\\\u0438\\\\u0435\\\\u043c\\\\u043a\\\\u0438 \\\\u043f\\\\u0440\\\\u043e\\\\u0434\\\\u0443\\\\u043a\\\\u0442\\\\u0430</p><p>- \\\\u041f\\\\u043e\\\\u043c\\\\u043e\\\\u0449\\\\u044c \\\\u043d\\\\u0430 \\\\u044d\\\\u0442\\\\u0430\\\\u043f\\\\u0435 UAT</p><p>- \\\\u0423\\\\u0447\\\\u0430\\\\u0441\\\\u0442\\\\u0438\\\\u0435 \\\\u0432 \\\\u0440\\\\u0430\\\\u0437\\\\u0431\\\\u043e\\\\u0440\\\\u0435 \\\\u043e\\\\u0448\\\\u0438\\\\u0431\\\\u043e\\\\u043a \\\\u0438 \\\\u0441\\\\u043b\\\\u043e\\\\u0436\\\\u043d\\\\u044b\\\\u0445 \\\\u0432\\\\u043e\\\\u043f\\\\u0440\\\\u043e\\\\u0441\\\\u043e\\\\u0432 \\\\u043f\\\\u043e\\\\u043b\\\\u044c\\\\u0437\\\\u043e\\\\u0432\\\\u0430\\\\u0442\\\\u0435\\\\u043b\\\\u0435\\\\u0439</p><p>- \\\\u0423\\\\u0447\\\\u0430\\\\u0441\\\\u0442\\\\u0438\\\\u0435 \\\\u0432\\\\u043e \\\\u0432\\\\u0441\\\\u0435\\\\u0445 \\\\u043a\\\\u043e\\\\u043c\\\\u0430\\\\u043d\\\\u0434\\\\u043d\\\\u044b\\\\u0445 \\\\u043c\\\\u0435\\\\u0440\\\\u043e\\\\u043f\\\\u0440\\\\u0438\\\\u044f\\\\u0442\\\\u0438\\\\u044f\\\\u0445 (\\\\u043f\\\\u043b\\\\u0430\\\\u043d\\\\u0438\\\\u0440\\\\u043e\\\\u0432\\\\u0430\\\\u043d\\\\u0438\\\\u0435, \\\\u0440\\\\u0435\\\\u0442\\\\u0440\\\\u043e\\\\u0441\\\\u043f\\\\u0435\\\\u043a\\\\u0442\\\\u0438\\\\u0432\\\\u0430, stand-up, \\\\u0434\\\\u0435\\\\u043c\\\\u043e)</p><p>&nbsp;</p><p><strong>\\\\u0411\\\\u043b\\\\u0438\\\\u0436\\\\u0430\\\\u0439\\\\u0448\\\\u0438\\\\u0435 \\\\u043f\\\\u043b\\\\u0430\\\\u043d\\\\u044b \\\\u0438 \\\\u0432\\\\u044b\\\\u0437\\\\u043e\\\\u0432\\\\u044b</strong>:</p><p>- \\\\u0420\\\\u0430\\\\u0431\\\\u043e\\\\u0442\\\\u0430 \\\\u043f\\\\u043e \\\\u0438\\\\u043d\\\\u0442\\\\u0435\\\\u0433\\\\u0440\\\\u0430\\\\u0446\\\\u0438\\\\u0438 \\\\u0441 JIRA (API)</p><p>- \\\\u0412\\\\u044b\\\\u043d\\\\u043e\\\\u0441 \\\\u0438 \\\\u0440\\\\u0435\\\\u0444\\\\u0430\\\\u043a\\\\u0442\\\\u043e\\\\u0440\\\\u0438\\\\u043d\\\\u0433 \\\\u043a\\\\u043e\\\\u0434\\\\u0430 \\\\u0438\\\\u0437 \\\\u043c\\\\u043e\\\\u043d\\\\u043e\\\\u043b\\\\u0438\\\\u0442\\\\u0430 \\\\u0432 \\\\u043c\\\\u0438\\\\u043a\\\\u0440\\\\u043e\\\\u0441\\\\u0435\\\\u0440\\\\u0432\\\\u0438\\\\u0441\\\\u044b</p><p>- \\\\u0422\\\\u0435\\\\u0441\\\\u043d\\\\u0430\\\\u044f \\\\u0438\\\\u043d\\\\u0442\\\\u0435\\\\u0433\\\\u0440\\\\u0430\\\\u0446\\\\u0438\\\\u044f \\\\u0438 \\\\u043f\\\\u0435\\\\u0440\\\\u0435\\\\u0438\\\\u0441\\\\u043f\\\\u043e\\\\u043b\\\\u044c\\\\u0437\\\\u043e\\\\u0432\\\\u0430\\\\u043d\\\\u0438\\\\u0435 \\\\u0441\\\\u0435\\\\u0440\\\\u0432\\\\u0438\\\\u0441\\\\u043e\\\\u0432 \\\\u044d\\\\u043a\\\\u043e\\\\u0441\\\\u0438\\\\u0441\\\\u0442\\\\u0435\\\\u043c\\\\u044b SDS</p>\"}',\n",
       " 'vacancy_age': 31}"
      ]
     },
     "execution_count": 58,
     "metadata": {},
     "output_type": "execute_result"
    }
   ],
   "source": [
    "analytics_python[9]"
   ]
  },
  {
   "cell_type": "code",
   "execution_count": 41,
   "metadata": {
    "scrolled": true
   },
   "outputs": [
    {
     "name": "stdout",
     "output_type": "stream",
     "text": [
      "20\n",
      "20\n",
      "23\n",
      "24\n",
      "25\n",
      "25\n",
      "25\n",
      "26\n",
      "30\n",
      "31\n",
      "32\n",
      "32\n",
      "33\n",
      "33\n",
      "33\n",
      "33\n",
      "34\n",
      "37\n",
      "35\n",
      "38\n",
      "37\n",
      "38\n",
      "39\n",
      "39\n",
      "39\n",
      "43\n",
      "45\n",
      "47\n",
      "47\n",
      "47\n",
      "52\n",
      "53\n",
      "55\n",
      "58\n",
      "58\n",
      "59\n",
      "60\n",
      "60\n",
      "60\n",
      "61\n",
      "61\n",
      "62\n",
      "69\n",
      "73\n",
      "73\n",
      "82\n",
      "97\n",
      "97\n",
      "97\n",
      "110\n",
      "117\n",
      "121\n",
      "135\n",
      "19\n",
      "19\n",
      "20\n",
      "19\n"
     ]
    }
   ],
   "source": [
    "for line in analytics_python:\n",
    "    print(line['vacancy_age'])"
   ]
  },
  {
   "cell_type": "markdown",
   "metadata": {},
   "source": [
    "Сортируем выборку (зрительная оценка возраста вакансий недостаточна, оставил это действие для \"портфолио\")"
   ]
  },
  {
   "cell_type": "code",
   "execution_count": 42,
   "metadata": {},
   "outputs": [],
   "source": [
    "from operator import itemgetter\n",
    "analytics_py_sorted = sorted(analytics_python, key = itemgetter('vacancy_age'))\n"
   ]
  },
  {
   "cell_type": "code",
   "execution_count": 44,
   "metadata": {
    "scrolled": true
   },
   "outputs": [
    {
     "name": "stdout",
     "output_type": "stream",
     "text": [
      "19\n",
      "19\n",
      "19\n",
      "20\n",
      "20\n",
      "20\n",
      "23\n",
      "24\n",
      "25\n",
      "25\n",
      "25\n",
      "26\n",
      "30\n",
      "31\n",
      "32\n",
      "32\n",
      "33\n",
      "33\n",
      "33\n",
      "33\n",
      "34\n",
      "35\n",
      "37\n",
      "37\n",
      "38\n",
      "38\n",
      "39\n",
      "39\n",
      "39\n",
      "43\n",
      "45\n",
      "47\n",
      "47\n",
      "47\n",
      "52\n",
      "53\n",
      "55\n",
      "58\n",
      "58\n",
      "59\n",
      "60\n",
      "60\n",
      "60\n",
      "61\n",
      "61\n",
      "62\n",
      "69\n",
      "73\n",
      "73\n",
      "82\n",
      "97\n",
      "97\n",
      "97\n",
      "110\n",
      "117\n",
      "121\n",
      "135\n"
     ]
    }
   ],
   "source": [
    "for line in analytics_py_sorted:\n",
    "    print(line['vacancy_age'])"
   ]
  },
  {
   "cell_type": "markdown",
   "metadata": {},
   "source": [
    "Считаем количество с использованием counter по возрасту (вышло неинформативно)"
   ]
  },
  {
   "cell_type": "code",
   "execution_count": 46,
   "metadata": {},
   "outputs": [],
   "source": [
    "from collections import Counter"
   ]
  },
  {
   "cell_type": "code",
   "execution_count": 51,
   "metadata": {
    "scrolled": true
   },
   "outputs": [
    {
     "data": {
      "text/plain": [
       "[(33, 4),\n",
       " (20, 3),\n",
       " (25, 3),\n",
       " (39, 3),\n",
       " (47, 3),\n",
       " (60, 3),\n",
       " (97, 3),\n",
       " (19, 3),\n",
       " (32, 2),\n",
       " (37, 2)]"
      ]
     },
     "execution_count": 51,
     "metadata": {},
     "output_type": "execute_result"
    }
   ],
   "source": [
    "an_py_vacage = Counter(row['vacancy_age'] for row in analytics_python)\n",
    "an_py_vacage.most_common(10)"
   ]
  },
  {
   "cell_type": "markdown",
   "metadata": {},
   "source": [
    "Определяем самые частые названия вакансий аналитиков с Python"
   ]
  },
  {
   "cell_type": "code",
   "execution_count": 55,
   "metadata": {},
   "outputs": [
    {
     "data": {
      "text/plain": [
       "[('Системный аналитик', 6),\n",
       " ('Аналитик данных', 2),\n",
       " ('Ведущий аналитик', 2),\n",
       " ('IT Аналитик', 1),\n",
       " ('Аналитик SQL (кампании продаж)', 1)]"
      ]
     },
     "execution_count": 55,
     "metadata": {},
     "output_type": "execute_result"
    }
   ],
   "source": [
    "an_py_count = Counter(row['vactitle'] for row in analytics_python)\n",
    "an_py_count.most_common(5)"
   ]
  },
  {
   "cell_type": "markdown",
   "metadata": {},
   "source": [
    "Напоследок, можно посмотреть самые частые вакансии во всей выгрузке vacs:"
   ]
  },
  {
   "cell_type": "code",
   "execution_count": 57,
   "metadata": {},
   "outputs": [
    {
     "data": {
      "text/plain": [
       "[('Мобильный менеджер по продажам', 229),\n",
       " ('Старший менеджер по обслуживанию', 172),\n",
       " ('Специалист по прямым продажам', 164),\n",
       " ('Менеджер по продажам', 86),\n",
       " ('Системный аналитик', 62),\n",
       " ('Менеджер по работе с ключевыми клиентами малого бизнеса', 53),\n",
       " ('Java разработчик', 40),\n",
       " ('Водитель-инкассатор', 38),\n",
       " ('Старший специалист по взысканию задолженности', 38),\n",
       " ('Главный клиентский менеджер малого бизнеса', 34)]"
      ]
     },
     "execution_count": 57,
     "metadata": {},
     "output_type": "execute_result"
    }
   ],
   "source": [
    "all_vacs_count = Counter(row['vactitle'] for row in vacs)\n",
    "all_vacs_count.most_common(10)"
   ]
  }
 ],
 "metadata": {
  "colab": {
   "collapsed_sections": [],
   "name": "without_pandas04_04.ipynb",
   "provenance": []
  },
  "kernelspec": {
   "display_name": "Python 3",
   "language": "python",
   "name": "python3"
  },
  "language_info": {
   "codemirror_mode": {
    "name": "ipython",
    "version": 3
   },
   "file_extension": ".py",
   "mimetype": "text/x-python",
   "name": "python",
   "nbconvert_exporter": "python",
   "pygments_lexer": "ipython3",
   "version": "3.8.3"
  }
 },
 "nbformat": 4,
 "nbformat_minor": 1
}
