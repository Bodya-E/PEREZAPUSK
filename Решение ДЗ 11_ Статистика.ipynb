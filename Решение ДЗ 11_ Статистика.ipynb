{
 "cells": [
  {
   "cell_type": "markdown",
   "metadata": {
    "id": "pDrecLU-4QjS"
   },
   "source": [
    "# Практика"
   ]
  },
  {
   "cell_type": "markdown",
   "metadata": {
    "id": "gUvTNDlMaV-a"
   },
   "source": [
    "## Определение вероятности. События\n",
    "\n",
    "Требуется сгенерировать необходимые выборки и произвести по ним расчеты"
   ]
  },
  {
   "cell_type": "markdown",
   "metadata": {
    "id": "5V70InEBTgup"
   },
   "source": [
    "### Задача 1\n",
    "Брошено две монеты. Найти вероятность того, что монеты выпали разными сторонами"
   ]
  },
  {
   "cell_type": "code",
   "execution_count": 2,
   "metadata": {
    "id": "88Iw-SL3jYQV"
   },
   "outputs": [
    {
     "data": {
      "text/plain": [
       "0.5"
      ]
     },
     "execution_count": 2,
     "metadata": {},
     "output_type": "execute_result"
    }
   ],
   "source": [
    "2/4"
   ]
  },
  {
   "cell_type": "markdown",
   "metadata": {
    "id": "t0XOMos2Tl0e"
   },
   "source": [
    "### Задача 2\n",
    "Брошено три монеты. Описать множество всех элементарных событий. Найти вероятности следующих событий:\n",
    "\n",
    "\n",
    "1.   A = {не выпало ни одного герба}\n",
    "2.   B = {выпало четное число гербов}\n",
    "3.   C = {на третьей монете выпал герб}\n"
   ]
  },
  {
   "cell_type": "code",
   "execution_count": 18,
   "metadata": {
    "id": "o7NjAE9uUo-L"
   },
   "outputs": [],
   "source": [
    "import random\n",
    "import numpy as np"
   ]
  },
  {
   "cell_type": "code",
   "execution_count": 50,
   "metadata": {
    "scrolled": true
   },
   "outputs": [
    {
     "data": {
      "text/plain": [
       "{(0, 0, 0),\n",
       " (0, 0, 1),\n",
       " (0, 1, 0),\n",
       " (0, 1, 1),\n",
       " (1, 0, 0),\n",
       " (1, 0, 1),\n",
       " (1, 1, 0),\n",
       " (1, 1, 1)}"
      ]
     },
     "execution_count": 50,
     "metadata": {},
     "output_type": "execute_result"
    }
   ],
   "source": [
    "coin = (0,1) # 0 - Орёл(Герб) , 1 - Решка \n",
    "case_list = []\n",
    "iterate = 10000\n",
    "for i in range (iterate):\n",
    "    case_list.append((random.choice(coin),random.choice(coin),random.choice(coin)))\n",
    "case_set = set(case_list)\n",
    "case_set"
   ]
  },
  {
   "cell_type": "code",
   "execution_count": 51,
   "metadata": {},
   "outputs": [],
   "source": [
    "from collections import Counter\n",
    "count_case = Counter(case_list)"
   ]
  },
  {
   "cell_type": "code",
   "execution_count": 52,
   "metadata": {
    "scrolled": false
   },
   "outputs": [
    {
     "data": {
      "text/plain": [
       "[((1, 0, 0), 1190),\n",
       " ((1, 1, 1), 1252),\n",
       " ((0, 0, 1), 1287),\n",
       " ((1, 1, 0), 1222),\n",
       " ((0, 1, 1), 1250),\n",
       " ((0, 1, 0), 1227),\n",
       " ((1, 0, 1), 1263),\n",
       " ((0, 0, 0), 1309)]"
      ]
     },
     "execution_count": 52,
     "metadata": {},
     "output_type": "execute_result"
    }
   ],
   "source": [
    "count_case_list = list(count_case.items())\n",
    "count_case_list"
   ]
  },
  {
   "cell_type": "code",
   "execution_count": 65,
   "metadata": {},
   "outputs": [
    {
     "name": "stdout",
     "output_type": "stream",
     "text": [
      "Case A probability is 12.520000000000001%\n"
     ]
    }
   ],
   "source": [
    "cnt_case_A = 0\n",
    "for i in count_case_list:\n",
    "    if i[0] == (1, 1, 1):\n",
    "        cnt_case_A += i[1] \n",
    "\n",
    "print(\"Case A probability is \",cnt_case_A/iterate*100,'%', sep='') "
   ]
  },
  {
   "cell_type": "code",
   "execution_count": 64,
   "metadata": {},
   "outputs": [
    {
     "name": "stdout",
     "output_type": "stream",
     "text": [
      "37.04%\n"
     ]
    }
   ],
   "source": [
    "cnt_case_B = 0\n",
    "for i in count_case_list:\n",
    "    if i[0] == (0, 1, 0) or i[0] == (0, 0, 1) or i[0] == (1, 0, 0):\n",
    "        cnt_case_B += i[1] \n",
    "\n",
    "print(\"Case B probability is \",cnt_case_B/iterate*100,'%', sep='') "
   ]
  },
  {
   "cell_type": "code",
   "execution_count": 66,
   "metadata": {},
   "outputs": [
    {
     "name": "stdout",
     "output_type": "stream",
     "text": [
      "Case C probability is 50.519999999999996%\n"
     ]
    }
   ],
   "source": [
    "cnt_case_C = 0\n",
    "for i in count_case_list:\n",
    "    if i[0] == (0, 0, 1) or i[0] == (0, 1, 1) or i[0] == (1, 0, 1) or i[0] == (1, 1, 1):\n",
    "        cnt_case_C += i[1] \n",
    "\n",
    "print(\"Case C probability is \",cnt_case_C/iterate*100,'%', sep='') "
   ]
  },
  {
   "cell_type": "markdown",
   "metadata": {},
   "source": [
    "Предлагается также решить задачи: \n",
    "\n",
    "### Задача 3\n",
    "Из двух претендентов E и L на ответственную должность три члена комиссии должны отобрать одного. Каждый член комиссии должен указать либо одного достойного, либо забраковать обоих. Претендент считается выбранным, если он был признана достойным хотя бы двумя членами комиссии.\n",
    "Найти вероятность событий:\n",
    "\n",
    "A = {рекомендован L}, B = {рекомендован E}\n"
   ]
  },
  {
   "cell_type": "code",
   "execution_count": 31,
   "metadata": {},
   "outputs": [
    {
     "name": "stdout",
     "output_type": "stream",
     "text": [
      "Case A and Case B probability both are near 25.46%\n"
     ]
    }
   ],
   "source": [
    "prepod_choice = (0,1,2) # 0 - забракованы оба , 1 - Выбран L, 2 - Выбран E\n",
    "case_a = [(1,1,1),(1,1,0),(1,0,1),(0,1,1),(1,1,2),(1,2,1),(2,1,1)]\n",
    "\n",
    "case_list = []\n",
    "iterate = 10000\n",
    "\n",
    "for i in range (iterate):\n",
    "    case_list.append((random.choice(prepod_choice),random.choice(prepod_choice),random.choice(prepod_choice)))\n",
    "count_case = Counter(case_list)\n",
    "\n",
    "count_case_list = list(count_case.items())\n",
    "cnt_case_a = 0\n",
    "for i in count_case_list:\n",
    "    if i[0] in case_a:\n",
    "        cnt_case_a += i[1] \n",
    "\n",
    " # у обоих претендентов одинаковые шансы, соответственно их можно приравнять\n",
    "\n",
    "print(\"Case A and Case B probabilities both are near \",cnt_case_a/iterate*100,'%', sep='') "
   ]
  },
  {
   "cell_type": "markdown",
   "metadata": {
    "id": "peM38mVfYa5B"
   },
   "source": [
    "### Задача 4\n",
    "Брошено две игральных кости. Описать множество элементарных событий. Найти вероятности событий:\n",
    "\n",
    "A = {вышло две \"шестерки\"}\n",
    "\n",
    "B = {сумма выпавших очков не меньше 11}\n",
    "\n",
    "C = {не выпала ни одна \"шестерка\"}"
   ]
  },
  {
   "cell_type": "code",
   "execution_count": 19,
   "metadata": {
    "scrolled": false
   },
   "outputs": [
    {
     "name": "stdout",
     "output_type": "stream",
     "text": [
      "Case A probability is 2.7777777777777777%\n",
      "Case B probability is 8.690000000000001%\n",
      "Case C probability is 69.1%\n"
     ]
    }
   ],
   "source": [
    "case_a = 12\n",
    "case_b = 11\n",
    "\n",
    "case_list = []\n",
    "iterate = 10000\n",
    "\n",
    "for i in range (iterate):\n",
    "    case_list.append((random.randrange(1,7),random.randrange(1,7)))\n",
    "count_case = Counter(case_list)\n",
    "count_case_list = list(count_case.items())\n",
    "\n",
    "\n",
    "cnt_case_a = 1/36\n",
    " \n",
    "\n",
    "print(\"Case A probability is \",cnt_case_a*100,'%', sep='') \n",
    "\n",
    "cnt_case_b = 0\n",
    "for i in count_case_list:\n",
    "    if  sum((i[0])) >= 11:\n",
    "        cnt_case_b += i[1] \n",
    "\n",
    "print(\"Case B probability is \",cnt_case_b/iterate*100,'%', sep='') \n",
    "\n",
    "\n",
    "cnt_case_c = 0\n",
    "for i in count_case_list:\n",
    "    if 6 not in i[0]:\n",
    "        cnt_case_c += i[1] \n",
    "\n",
    "print(\"Case C probability is \",cnt_case_c/iterate*100,'%', sep='') "
   ]
  },
  {
   "cell_type": "markdown",
   "metadata": {
    "id": "f-Bi0p8haclB"
   },
   "source": [
    "## Вероятность суммы событий"
   ]
  },
  {
   "cell_type": "markdown",
   "metadata": {
    "id": "g7A7QlvGTnwZ"
   },
   "source": [
    "### Задача 5\n",
    "Брошены две игральные кости. Найти вероятность события D = {выпала хотя бы одна шестёрка}\n"
   ]
  },
  {
   "cell_type": "code",
   "execution_count": 63,
   "metadata": {
    "id": "vjtTJN-kUp9D"
   },
   "outputs": [
    {
     "name": "stdout",
     "output_type": "stream",
     "text": [
      "Case D probability is 30.409999999999997%\n"
     ]
    }
   ],
   "source": [
    "(1 - cnt_case_c/iterate) *100 # Вычесть вероятность события, где не выпадает ни одной 6\n",
    "# или\n",
    "cnt_case_d = 0\n",
    "for i in count_case_list:\n",
    "    if 6 in i[0]:\n",
    "        cnt_case_d += i[1] \n",
    "\n",
    "print(\"Case D probability is \",cnt_case_d/iterate*100,'%', sep='')"
   ]
  },
  {
   "cell_type": "markdown",
   "metadata": {
    "id": "R1bYSzQQbC6I"
   },
   "source": [
    "Предлагается также решить задачи: \n",
    "\n",
    "### Задача 6\n",
    "В телефонном номере три последние цифры стерлись. Считая, что все возможные значения стершихся цифр равновероятны, найти вероятность событий:\n",
    "\n",
    "A = {Стерлись различные цифры},\n",
    "\n",
    "B = {Стерлись одинаковые цифры},\n",
    "\n",
    "C = {Среди стершихся цифр хотя бы две совпадают},\n",
    "\n",
    "D = {Среди стершихся цифр хотя бы две различны}\n"
   ]
  },
  {
   "cell_type": "code",
   "execution_count": 69,
   "metadata": {},
   "outputs": [
    {
     "data": {
      "text/plain": [
       "0.009009009009009028"
      ]
     },
     "execution_count": 69,
     "metadata": {},
     "output_type": "execute_result"
    }
   ],
   "source": [
    "six_a = (999 - 9) / 999\n",
    "six_b = 1- A\n",
    "six_b\n",
    "six_c"
   ]
  },
  {
   "cell_type": "markdown",
   "metadata": {
    "id": "RnugkR8BalK_"
   },
   "source": [
    "## Случайные величины"
   ]
  },
  {
   "cell_type": "markdown",
   "metadata": {
    "id": "yLoZDZ17UVsp"
   },
   "source": [
    "### Задача 7\n",
    "В лотерее имеется 10 билетов, из которых один выигрышный. Размер выигрыша 10 ден. ед.; стоимость билета 1 ден ед. Найти закон распределения случайной величины X, равной чистому выигрышу участника лотереи, который вытаскивает билет первым."
   ]
  },
  {
   "cell_type": "code",
   "execution_count": 19,
   "metadata": {
    "id": "oNk432sKUqzT",
    "scrolled": true
   },
   "outputs": [
    {
     "data": {
      "text/plain": [
       "<function matplotlib.pyplot.show(*args, **kw)>"
      ]
     },
     "execution_count": 19,
     "metadata": {},
     "output_type": "execute_result"
    },
    {
     "data": {
      "image/png": "[encoded data removed]",
      "text/plain": [
       "<Figure size 1440x1080 with 1 Axes>"
      ]
     },
     "metadata": {
      "needs_background": "light"
     },
     "output_type": "display_data"
    }
   ],
   "source": [
    "import scipy.stats as sts\n",
    "import numpy as np\n",
    "import matplotlib.pyplot as plt\n",
    "import pandas as pd\n",
    "%matplotlib inline\n",
    "\n",
    "x = range(10)    #np.linspace(0,10, 100)\n",
    "bernoulli_rv = sts.bernoulli(0.1)\n",
    "\n",
    "sr_bernoulli = pd.Series(bernoulli_rv.rvs(100))\n",
    "sr_formed = sr_bernoulli.replace([0,1], [-1,9])\n",
    "\n",
    "bernoulli_cdf = bernoulli_rv.cdf(x)\n",
    "bernoulli_cdf\n",
    "cdf_formed = pd.Series(bernoulli_cdf).replace([0,1], [-1,9])\n",
    "\n",
    "plt.figure(figsize=(20, 15))\n",
    "plt.plot(cdf_formed)\n",
    "plt.show"
   ]
  },
  {
   "cell_type": "markdown",
   "metadata": {
    "id": "U-NK9liSbpvb"
   },
   "source": [
    "Предлагается также решить задачу: \n",
    "\n",
    "### Задача 8\n",
    "Брошены две игральные кости. Найти закон распределения случайной величины $X$, равной сумме выпавших очков. Найти вероятности событий ${X <= 4}$, ${X > 4}$"
   ]
  },
  {
   "cell_type": "code",
   "execution_count": 27,
   "metadata": {},
   "outputs": [
    {
     "name": "stdout",
     "output_type": "stream",
     "text": [
      "Case A (X <= 4)  probability is 32.22%\n",
      "Case B (X > 4) probability is 67.78%\n"
     ]
    }
   ],
   "source": [
    "import random\n",
    "from collections import Counter\n",
    "\n",
    "kubik = range(7)\n",
    "main_value = 4\n",
    "\n",
    "case_list = []\n",
    "iterate = 10000\n",
    "\n",
    "for i in range (iterate):\n",
    "    case_list.append((random.choice(kubik),random.choice(kubik)))\n",
    "\n",
    "count_case = Counter(case_list)\n",
    "count_case_list = list(count_case.items())\n",
    "count_case_list\n",
    "\n",
    "cnt_case_a = 0\n",
    "cnt_in_tuple = 0\n",
    "for i in count_case_list:\n",
    "    \n",
    "    cnt_in_tuple = 0\n",
    "    \n",
    "    for j in i[0]:\n",
    "        cnt_in_tuple += j\n",
    "        \n",
    "    if cnt_in_tuple <= main_value:\n",
    "        cnt_case_a += i[1] \n",
    "\n",
    "\n",
    "cnt_case_b = 0\n",
    "cnt_in_tuple = 0\n",
    "for i in count_case_list:\n",
    "    \n",
    "    cnt_in_tuple = 0\n",
    "    \n",
    "    for j in i[0]:\n",
    "        cnt_in_tuple += j\n",
    "        \n",
    "    if cnt_in_tuple > main_value:\n",
    "        cnt_case_b += i[1] \n",
    "        \n",
    "        \n",
    "print(\"Case A (X <= 4)  probability is \",cnt_case_a/iterate*100,'%', sep='') \n",
    "print(\"Case B (X > 4) probability is \",cnt_case_b/iterate*100,'%', sep='') "
   ]
  },
  {
   "cell_type": "markdown",
   "metadata": {
    "id": "shgW4D83awjK"
   },
   "source": [
    "## Условные вероятности"
   ]
  },
  {
   "cell_type": "markdown",
   "metadata": {
    "id": "Fbu1RFZwWZrk"
   },
   "source": [
    "### Задача 9\n",
    "Из колоды (36 карт) вынимают последовательно без возвращения две карты. Найти вероятность того, что первой картой была шестерка(A), а второй — семерка(B). Найти условную вероятность того же события при условии, что обе карты бубновой масти (C).\n"
   ]
  },
  {
   "cell_type": "code",
   "execution_count": 39,
   "metadata": {
    "id": "037o56awW9-E"
   },
   "outputs": [
    {
     "name": "stdout",
     "output_type": "stream",
     "text": [
      "P(AB) = 1.2698412698412698 %\n",
      "P(AB|C) = 24.305555555555554 %\n"
     ]
    }
   ],
   "source": [
    "P_AB = 4/36 * 4/35\n",
    "print('P(AB) =',P_AB*100,'%')\n",
    "\n",
    "P_AB_C = (1/9)*(1/8) / (1/4 * 8/35)\n",
    "print('P(AB|C) =',P_AB_C*100,'%')\n"
   ]
  },
  {
   "cell_type": "markdown",
   "metadata": {
    "id": "hNVxtaz5c57b"
   },
   "source": [
    "Предлагается также решить задачу: \n",
    "\n",
    "### Задача 10\n",
    "Из урны, содержащей два белых и три черных шара, последовательно извлекают два шара; вынутые шары не возвращаются. Если первый шар оказался черным, то перед вторым извлечением в урну добавляют белый шар. В противном случае состав оставшихся шаров не меняют. Найти вероятности событий:\n",
    "\n",
    "$A$ = {извлечены два белых шара},\n",
    "\n",
    "$B$ = {извлечены два черных шара}\n",
    "\n",
    "Указание. Пусть событие $C_1$ = {первый шар белый}, событие $C_2$ = {второй шар белый}. Тогда $A = C_1C_2$, $B = \\overline C_1 \\overline C_2$ "
   ]
  },
  {
   "cell_type": "code",
   "execution_count": 40,
   "metadata": {
    "id": "WSLnhk2sdBt_"
   },
   "outputs": [
    {
     "name": "stdout",
     "output_type": "stream",
     "text": [
      "P(A) = 10.0 %\n",
      "P(B) = 16.0 %\n"
     ]
    }
   ],
   "source": [
    "P_A = 2/5 * 1/4\n",
    "print('P(A) =',P_A*100,'%')\n",
    "P_B = 2/5 * 2/5\n",
    "print('P(B) =',P_B*100,'%')"
   ]
  }
 ],
 "metadata": {
  "colab": {
   "collapsed_sections": [],
   "name": "Практика к занятию 11.ipynb",
   "provenance": []
  },
  "kernelspec": {
   "display_name": "Python 3",
   "language": "python",
   "name": "python3"
  },
  "language_info": {
   "codemirror_mode": {
    "name": "ipython",
    "version": 3
   },
   "file_extension": ".py",
   "mimetype": "text/x-python",
   "name": "python",
   "nbconvert_exporter": "python",
   "pygments_lexer": "ipython3",
   "version": "3.8.3"
  }
 },
 "nbformat": 4,
 "nbformat_minor": 1
}
